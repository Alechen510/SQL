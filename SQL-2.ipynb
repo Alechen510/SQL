{
    "metadata": {
        "kernelspec": {
            "name": "SQL",
            "display_name": "SQL",
            "language": "sql"
        },
        "language_info": {
            "name": "sql",
            "version": ""
        }
    },
    "nbformat_minor": 2,
    "nbformat": 4,
    "cells": [
        {
            "cell_type": "markdown",
            "source": [
                "<span style=\"font-size: 16.000000pt; font-family: 'Cambria'\">51. Customer grouping</span><span style=\"font-size: 16.000000pt; font-family: 'Cambria'\">—</span><span style=\"font-size: 16.000000pt; font-family: 'Cambria'\">flexible</span>\n",
                "\n",
                "<span style=\"font-size: 12.000000pt; font-family: 'TimesNewRomanPSMT'\">Andrew, the VP of Sales is still thinking about how best to group customers, and define low, medium, high, and very high value customers. He now wants complete flexibility in grouping the customers, based on the dollar amount they've ordered. </span> <span style=\"font-size: 12.000000pt; font-family: 'TimesNewRomanPSMT'\">He doesn’t want to </span> <span style=\"font-size: 12.000000pt; font-family: 'TimesNewRomanPSMT'\">have to edit SQL in order to change the boundaries of the customer groups.</span>\n",
                "\n",
                "<span style=\"font-size: 12.000000pt; font-family: 'TimesNewRomanPSMT'\">How would you write the SQL?</span>\n",
                "\n",
                "<span style=\"font-size: 12.000000pt; font-family: 'TimesNewRomanPSMT'\">There's a table called CustomerGroupThreshold that you will need to use. Use only orders from 2016.&nbsp;</span>"
            ],
            "metadata": {
                "azdata_cell_guid": "6760d3b1-d72e-4e6d-a5d4-1214048d5ccd"
            },
            "attachments": {}
        },
        {
            "cell_type": "code",
            "source": [
                "WITH TotalOrders AS \n",
                "(SELECT \n",
                "    C.CustomerID,\n",
                "    C.CompanyName,\n",
                "    TotalOrderAmount = SUM(Quantity*UnitPrice)\n",
                "FROM OrderDetails OD\n",
                "JOIN Orders O ON OD.OrderID = O.OrderID AND YEAR(O.OrderDate) = 2016\n",
                "JOIN Customers C ON O.CustomerID = C.CustomerID\n",
                "GROUP BY C.CustomerID, C.CompanyName)\n",
                "\n",
                "SELECT \n",
                "    T.CustomerID,\n",
                "    T.CompanyName,\n",
                "    T.TotalOrderAmount,\n",
                "    CT.CustomerGroupName\n",
                "FROM TotalOrders T\n",
                "JOIN CustomerGroupThresholds CT \n",
                "ON TotalOrderAmount BETWEEN CT.RangeBottom AND CT.RangeTop\n",
                "\n",
                ""
            ],
            "metadata": {
                "azdata_cell_guid": "f9bba8ea-d2f0-4241-b293-3dcfa744c796",
                "language": "sql",
                "tags": []
            },
            "outputs": [
                {
                    "output_type": "display_data",
                    "data": {
                        "text/html": "(81 rows affected)"
                    },
                    "metadata": {}
                },
                {
                    "output_type": "display_data",
                    "data": {
                        "text/html": "Total execution time: 00:00:00.027"
                    },
                    "metadata": {}
                },
                {
                    "output_type": "execute_result",
                    "metadata": {},
                    "execution_count": 6,
                    "data": {
                        "application/vnd.dataresource+json": {
                            "schema": {
                                "fields": [
                                    {
                                        "name": "CustomerID"
                                    },
                                    {
                                        "name": "CompanyName"
                                    },
                                    {
                                        "name": "TotalOrderAmount"
                                    },
                                    {
                                        "name": "CustomerGroupName"
                                    }
                                ]
                            },
                            "data": [
                                {
                                    "CustomerID": "ALFKI",
                                    "CompanyName": "Alfreds Futterkiste",
                                    "TotalOrderAmount": "2302.20",
                                    "CustomerGroupName": "Medium"
                                },
                                {
                                    "CustomerID": "ANATR",
                                    "CompanyName": "Ana Trujillo Emparedados y helados",
                                    "TotalOrderAmount": "514.40",
                                    "CustomerGroupName": "Low"
                                },
                                {
                                    "CustomerID": "ANTON",
                                    "CompanyName": "Antonio Moreno Taquería",
                                    "TotalOrderAmount": "660.00",
                                    "CustomerGroupName": "Low"
                                },
                                {
                                    "CustomerID": "AROUT",
                                    "CompanyName": "Around the Horn",
                                    "TotalOrderAmount": "5838.50",
                                    "CustomerGroupName": "High"
                                },
                                {
                                    "CustomerID": "BERGS",
                                    "CompanyName": "Berglunds snabbköp",
                                    "TotalOrderAmount": "8110.55",
                                    "CustomerGroupName": "High"
                                },
                                {
                                    "CustomerID": "BLAUS",
                                    "CompanyName": "Blauer See Delikatessen",
                                    "TotalOrderAmount": "2160.00",
                                    "CustomerGroupName": "Medium"
                                },
                                {
                                    "CustomerID": "BLONP",
                                    "CompanyName": "Blondesddsl père et fils",
                                    "TotalOrderAmount": "730.00",
                                    "CustomerGroupName": "Low"
                                },
                                {
                                    "CustomerID": "BOLID",
                                    "CompanyName": "Bólido Comidas preparadas",
                                    "TotalOrderAmount": "280.00",
                                    "CustomerGroupName": "Low"
                                },
                                {
                                    "CustomerID": "BONAP",
                                    "CompanyName": "Bon app'",
                                    "TotalOrderAmount": "7185.90",
                                    "CustomerGroupName": "High"
                                },
                                {
                                    "CustomerID": "BOTTM",
                                    "CompanyName": "Bottom-Dollar Markets",
                                    "TotalOrderAmount": "12227.40",
                                    "CustomerGroupName": "Very High"
                                },
                                {
                                    "CustomerID": "BSBEV",
                                    "CompanyName": "B's Beverages",
                                    "TotalOrderAmount": "2431.00",
                                    "CustomerGroupName": "Medium"
                                },
                                {
                                    "CustomerID": "CACTU",
                                    "CompanyName": "Cactus Comidas para llevar",
                                    "TotalOrderAmount": "1576.80",
                                    "CustomerGroupName": "Medium"
                                },
                                {
                                    "CustomerID": "CHOPS",
                                    "CompanyName": "Chop-suey Chinese",
                                    "TotalOrderAmount": "4429.40",
                                    "CustomerGroupName": "Medium"
                                },
                                {
                                    "CustomerID": "COMMI",
                                    "CompanyName": "Comércio Mineiro",
                                    "TotalOrderAmount": "513.75",
                                    "CustomerGroupName": "Low"
                                },
                                {
                                    "CustomerID": "CONSH",
                                    "CompanyName": "Consolidated Holdings",
                                    "TotalOrderAmount": "931.50",
                                    "CustomerGroupName": "Low"
                                },
                                {
                                    "CustomerID": "DRACD",
                                    "CompanyName": "Drachenblut Delikatessen",
                                    "TotalOrderAmount": "2809.61",
                                    "CustomerGroupName": "Medium"
                                },
                                {
                                    "CustomerID": "DUMON",
                                    "CompanyName": "Du monde entier",
                                    "TotalOrderAmount": "860.10",
                                    "CustomerGroupName": "Low"
                                },
                                {
                                    "CustomerID": "EASTC",
                                    "CompanyName": "Eastern Connection",
                                    "TotalOrderAmount": "9569.31",
                                    "CustomerGroupName": "High"
                                },
                                {
                                    "CustomerID": "ERNSH",
                                    "CompanyName": "Ernst Handel",
                                    "TotalOrderAmount": "42598.90",
                                    "CustomerGroupName": "Very High"
                                },
                                {
                                    "CustomerID": "FOLKO",
                                    "CompanyName": "Folk och fä HB",
                                    "TotalOrderAmount": "15973.85",
                                    "CustomerGroupName": "Very High"
                                },
                                {
                                    "CustomerID": "FRANK",
                                    "CompanyName": "Frankenversand",
                                    "TotalOrderAmount": "5587.00",
                                    "CustomerGroupName": "High"
                                },
                                {
                                    "CustomerID": "FRANR",
                                    "CompanyName": "France restauration",
                                    "TotalOrderAmount": "2252.06",
                                    "CustomerGroupName": "Medium"
                                },
                                {
                                    "CustomerID": "FRANS",
                                    "CompanyName": "Franchi S.p.A.",
                                    "TotalOrderAmount": "1296.00",
                                    "CustomerGroupName": "Medium"
                                },
                                {
                                    "CustomerID": "FURIB",
                                    "CompanyName": "Furia Bacalhau e Frutos do Mar",
                                    "TotalOrderAmount": "68.00",
                                    "CustomerGroupName": "Low"
                                },
                                {
                                    "CustomerID": "GALED",
                                    "CompanyName": "Galería del gastrónomo",
                                    "TotalOrderAmount": "207.50",
                                    "CustomerGroupName": "Low"
                                },
                                {
                                    "CustomerID": "GODOS",
                                    "CompanyName": "Godos Cocina Típica",
                                    "TotalOrderAmount": "7064.05",
                                    "CustomerGroupName": "High"
                                },
                                {
                                    "CustomerID": "GOURL",
                                    "CompanyName": "Gourmet Lanchonetes",
                                    "TotalOrderAmount": "497.00",
                                    "CustomerGroupName": "Low"
                                },
                                {
                                    "CustomerID": "GREAL",
                                    "CompanyName": "Great Lakes Food Market",
                                    "TotalOrderAmount": "10562.58",
                                    "CustomerGroupName": "Very High"
                                },
                                {
                                    "CustomerID": "HANAR",
                                    "CompanyName": "Hanari Carnes",
                                    "TotalOrderAmount": "24238.05",
                                    "CustomerGroupName": "Very High"
                                },
                                {
                                    "CustomerID": "HILAA",
                                    "CompanyName": "HILARION-Abastos",
                                    "TotalOrderAmount": "6132.30",
                                    "CustomerGroupName": "High"
                                },
                                {
                                    "CustomerID": "HUNGO",
                                    "CompanyName": "Hungry Owl All-Night Grocers",
                                    "TotalOrderAmount": "22796.34",
                                    "CustomerGroupName": "Very High"
                                },
                                {
                                    "CustomerID": "ISLAT",
                                    "CompanyName": "Island Trading",
                                    "TotalOrderAmount": "2684.60",
                                    "CustomerGroupName": "Medium"
                                },
                                {
                                    "CustomerID": "KOENE",
                                    "CompanyName": "Königlich Essen",
                                    "TotalOrderAmount": "20204.95",
                                    "CustomerGroupName": "Very High"
                                },
                                {
                                    "CustomerID": "LACOR",
                                    "CompanyName": "La corne d'abondance",
                                    "TotalOrderAmount": "1992.05",
                                    "CustomerGroupName": "Medium"
                                },
                                {
                                    "CustomerID": "LAMAI",
                                    "CompanyName": "La maison d'Asie",
                                    "TotalOrderAmount": "1549.95",
                                    "CustomerGroupName": "Medium"
                                },
                                {
                                    "CustomerID": "LAUGB",
                                    "CompanyName": "Laughing Bacchus Wine Cellars",
                                    "TotalOrderAmount": "187.00",
                                    "CustomerGroupName": "Low"
                                },
                                {
                                    "CustomerID": "LEHMS",
                                    "CompanyName": "Lehmanns Marktstand",
                                    "TotalOrderAmount": "3342.85",
                                    "CustomerGroupName": "Medium"
                                },
                                {
                                    "CustomerID": "LETSS",
                                    "CompanyName": "Let's Stop N Shop",
                                    "TotalOrderAmount": "1450.60",
                                    "CustomerGroupName": "Medium"
                                },
                                {
                                    "CustomerID": "LILAS",
                                    "CompanyName": "LILA-Supermercado",
                                    "TotalOrderAmount": "5994.06",
                                    "CustomerGroupName": "High"
                                },
                                {
                                    "CustomerID": "LINOD",
                                    "CompanyName": "LINO-Delicateses",
                                    "TotalOrderAmount": "10085.60",
                                    "CustomerGroupName": "Very High"
                                },
                                {
                                    "CustomerID": "LONEP",
                                    "CompanyName": "Lonesome Pine Restaurant",
                                    "TotalOrderAmount": "1709.40",
                                    "CustomerGroupName": "Medium"
                                },
                                {
                                    "CustomerID": "MAGAA",
                                    "CompanyName": "Magazzini Alimentari Riuniti",
                                    "TotalOrderAmount": "1693.00",
                                    "CustomerGroupName": "Medium"
                                },
                                {
                                    "CustomerID": "MAISD",
                                    "CompanyName": "Maison Dewey",
                                    "TotalOrderAmount": "5000.20",
                                    "CustomerGroupName": "High"
                                },
                                {
                                    "CustomerID": "MORGK",
                                    "CompanyName": "Morgenstern Gesundkost",
                                    "TotalOrderAmount": "245.00",
                                    "CustomerGroupName": "Low"
                                },
                                {
                                    "CustomerID": "NORTS",
                                    "CompanyName": "North/South",
                                    "TotalOrderAmount": "45.00",
                                    "CustomerGroupName": "Low"
                                },
                                {
                                    "CustomerID": "OCEAN",
                                    "CompanyName": "Océano Atlántico Ltda.",
                                    "TotalOrderAmount": "3031.00",
                                    "CustomerGroupName": "Medium"
                                },
                                {
                                    "CustomerID": "OLDWO",
                                    "CompanyName": "Old World Delicatessen",
                                    "TotalOrderAmount": "5337.65",
                                    "CustomerGroupName": "High"
                                },
                                {
                                    "CustomerID": "OTTIK",
                                    "CompanyName": "Ottilies Käseladen",
                                    "TotalOrderAmount": "3012.70",
                                    "CustomerGroupName": "Medium"
                                },
                                {
                                    "CustomerID": "PERIC",
                                    "CompanyName": "Pericles Comidas clásicas",
                                    "TotalOrderAmount": "1496.00",
                                    "CustomerGroupName": "Medium"
                                },
                                {
                                    "CustomerID": "PICCO",
                                    "CompanyName": "Piccolo und mehr",
                                    "TotalOrderAmount": "4393.75",
                                    "CustomerGroupName": "Medium"
                                },
                                {
                                    "CustomerID": "PRINI",
                                    "CompanyName": "Princesa Isabel Vinhos",
                                    "TotalOrderAmount": "2633.90",
                                    "CustomerGroupName": "Medium"
                                },
                                {
                                    "CustomerID": "QUEDE",
                                    "CompanyName": "Que Delícia",
                                    "TotalOrderAmount": "1353.60",
                                    "CustomerGroupName": "Medium"
                                },
                                {
                                    "CustomerID": "QUEEN",
                                    "CompanyName": "Queen Cozinha",
                                    "TotalOrderAmount": "7007.65",
                                    "CustomerGroupName": "High"
                                },
                                {
                                    "CustomerID": "QUICK",
                                    "CompanyName": "QUICK-Stop",
                                    "TotalOrderAmount": "40526.99",
                                    "CustomerGroupName": "Very High"
                                },
                                {
                                    "CustomerID": "RANCH",
                                    "CompanyName": "Rancho grande",
                                    "TotalOrderAmount": "1694.70",
                                    "CustomerGroupName": "Medium"
                                },
                                {
                                    "CustomerID": "RATTC",
                                    "CompanyName": "Rattlesnake Canyon Grocery",
                                    "TotalOrderAmount": "21725.60",
                                    "CustomerGroupName": "Very High"
                                },
                                {
                                    "CustomerID": "REGGC",
                                    "CompanyName": "Reggiani Caseifici",
                                    "TotalOrderAmount": "4263.00",
                                    "CustomerGroupName": "Medium"
                                },
                                {
                                    "CustomerID": "RICAR",
                                    "CompanyName": "Ricardo Adocicados",
                                    "TotalOrderAmount": "7312.00",
                                    "CustomerGroupName": "High"
                                },
                                {
                                    "CustomerID": "RICSU",
                                    "CompanyName": "Richter Supermarkt",
                                    "TotalOrderAmount": "5497.90",
                                    "CustomerGroupName": "High"
                                },
                                {
                                    "CustomerID": "ROMEY",
                                    "CompanyName": "Romero y tomillo",
                                    "TotalOrderAmount": "726.89",
                                    "CustomerGroupName": "Low"
                                },
                                {
                                    "CustomerID": "SANTG",
                                    "CompanyName": "Santé Gourmet",
                                    "TotalOrderAmount": "3976.75",
                                    "CustomerGroupName": "Medium"
                                },
                                {
                                    "CustomerID": "SAVEA",
                                    "CompanyName": "Save-a-lot Markets",
                                    "TotalOrderAmount": "42806.25",
                                    "CustomerGroupName": "Very High"
                                },
                                {
                                    "CustomerID": "SEVES",
                                    "CompanyName": "Seven Seas Imports",
                                    "TotalOrderAmount": "1630.00",
                                    "CustomerGroupName": "Medium"
                                },
                                {
                                    "CustomerID": "SIMOB",
                                    "CompanyName": "Simons bistro",
                                    "TotalOrderAmount": "244.30",
                                    "CustomerGroupName": "Low"
                                },
                                {
                                    "CustomerID": "SPECD",
                                    "CompanyName": "Spécialités du monde",
                                    "TotalOrderAmount": "2371.00",
                                    "CustomerGroupName": "Medium"
                                },
                                {
                                    "CustomerID": "SPLIR",
                                    "CompanyName": "Split Rail Beer & Ale",
                                    "TotalOrderAmount": "1117.00",
                                    "CustomerGroupName": "Medium"
                                },
                                {
                                    "CustomerID": "SUPRD",
                                    "CompanyName": "Suprêmes délices",
                                    "TotalOrderAmount": "11862.50",
                                    "CustomerGroupName": "Very High"
                                },
                                {
                                    "CustomerID": "THEBI",
                                    "CompanyName": "The Big Cheese",
                                    "TotalOrderAmount": "69.60",
                                    "CustomerGroupName": "Low"
                                },
                                {
                                    "CustomerID": "THECR",
                                    "CompanyName": "The Cracker Box",
                                    "TotalOrderAmount": "326.00",
                                    "CustomerGroupName": "Low"
                                },
                                {
                                    "CustomerID": "TOMSP",
                                    "CompanyName": "Toms Spezialitäten",
                                    "TotalOrderAmount": "910.40",
                                    "CustomerGroupName": "Low"
                                },
                                {
                                    "CustomerID": "TORTU",
                                    "CompanyName": "Tortuga Restaurante",
                                    "TotalOrderAmount": "1874.50",
                                    "CustomerGroupName": "Medium"
                                },
                                {
                                    "CustomerID": "TRADH",
                                    "CompanyName": "Tradição Hipermercados",
                                    "TotalOrderAmount": "4401.62",
                                    "CustomerGroupName": "Medium"
                                },
                                {
                                    "CustomerID": "TRAIH",
                                    "CompanyName": "Trail's Head Gourmet Provisioners",
                                    "TotalOrderAmount": "237.90",
                                    "CustomerGroupName": "Low"
                                },
                                {
                                    "CustomerID": "VAFFE",
                                    "CompanyName": "Vaffeljernet",
                                    "TotalOrderAmount": "4333.50",
                                    "CustomerGroupName": "Medium"
                                },
                                {
                                    "CustomerID": "VICTE",
                                    "CompanyName": "Victuailles en stock",
                                    "TotalOrderAmount": "3022.00",
                                    "CustomerGroupName": "Medium"
                                },
                                {
                                    "CustomerID": "WANDK",
                                    "CompanyName": "Die Wandernde Kuh",
                                    "TotalOrderAmount": "1564.00",
                                    "CustomerGroupName": "Medium"
                                },
                                {
                                    "CustomerID": "WARTH",
                                    "CompanyName": "Wartian Herkku",
                                    "TotalOrderAmount": "300.00",
                                    "CustomerGroupName": "Low"
                                },
                                {
                                    "CustomerID": "WELLI",
                                    "CompanyName": "Wellington Importadora",
                                    "TotalOrderAmount": "1245.00",
                                    "CustomerGroupName": "Medium"
                                },
                                {
                                    "CustomerID": "WHITC",
                                    "CompanyName": "White Clover Markets",
                                    "TotalOrderAmount": "15278.90",
                                    "CustomerGroupName": "Very High"
                                },
                                {
                                    "CustomerID": "WILMK",
                                    "CompanyName": "Wilman Kala",
                                    "TotalOrderAmount": "1987.00",
                                    "CustomerGroupName": "Medium"
                                },
                                {
                                    "CustomerID": "WOLZA",
                                    "CompanyName": "Wolski  Zajazd",
                                    "TotalOrderAmount": "1865.10",
                                    "CustomerGroupName": "Medium"
                                }
                            ]
                        },
                        "text/html": [
                            "<table>",
                            "<tr><th>CustomerID</th><th>CompanyName</th><th>TotalOrderAmount</th><th>CustomerGroupName</th></tr>",
                            "<tr><td>ALFKI</td><td>Alfreds Futterkiste</td><td>2302.20</td><td>Medium</td></tr>",
                            "<tr><td>ANATR</td><td>Ana Trujillo Emparedados y helados</td><td>514.40</td><td>Low</td></tr>",
                            "<tr><td>ANTON</td><td>Antonio Moreno Taquería</td><td>660.00</td><td>Low</td></tr>",
                            "<tr><td>AROUT</td><td>Around the Horn</td><td>5838.50</td><td>High</td></tr>",
                            "<tr><td>BERGS</td><td>Berglunds snabbköp</td><td>8110.55</td><td>High</td></tr>",
                            "<tr><td>BLAUS</td><td>Blauer See Delikatessen</td><td>2160.00</td><td>Medium</td></tr>",
                            "<tr><td>BLONP</td><td>Blondesddsl père et fils</td><td>730.00</td><td>Low</td></tr>",
                            "<tr><td>BOLID</td><td>Bólido Comidas preparadas</td><td>280.00</td><td>Low</td></tr>",
                            "<tr><td>BONAP</td><td>Bon app&#39;</td><td>7185.90</td><td>High</td></tr>",
                            "<tr><td>BOTTM</td><td>Bottom-Dollar Markets</td><td>12227.40</td><td>Very High</td></tr>",
                            "<tr><td>BSBEV</td><td>B&#39;s Beverages</td><td>2431.00</td><td>Medium</td></tr>",
                            "<tr><td>CACTU</td><td>Cactus Comidas para llevar</td><td>1576.80</td><td>Medium</td></tr>",
                            "<tr><td>CHOPS</td><td>Chop-suey Chinese</td><td>4429.40</td><td>Medium</td></tr>",
                            "<tr><td>COMMI</td><td>Comércio Mineiro</td><td>513.75</td><td>Low</td></tr>",
                            "<tr><td>CONSH</td><td>Consolidated Holdings</td><td>931.50</td><td>Low</td></tr>",
                            "<tr><td>DRACD</td><td>Drachenblut Delikatessen</td><td>2809.61</td><td>Medium</td></tr>",
                            "<tr><td>DUMON</td><td>Du monde entier</td><td>860.10</td><td>Low</td></tr>",
                            "<tr><td>EASTC</td><td>Eastern Connection</td><td>9569.31</td><td>High</td></tr>",
                            "<tr><td>ERNSH</td><td>Ernst Handel</td><td>42598.90</td><td>Very High</td></tr>",
                            "<tr><td>FOLKO</td><td>Folk och fä HB</td><td>15973.85</td><td>Very High</td></tr>",
                            "<tr><td>FRANK</td><td>Frankenversand</td><td>5587.00</td><td>High</td></tr>",
                            "<tr><td>FRANR</td><td>France restauration</td><td>2252.06</td><td>Medium</td></tr>",
                            "<tr><td>FRANS</td><td>Franchi S.p.A.</td><td>1296.00</td><td>Medium</td></tr>",
                            "<tr><td>FURIB</td><td>Furia Bacalhau e Frutos do Mar</td><td>68.00</td><td>Low</td></tr>",
                            "<tr><td>GALED</td><td>Galería del gastrónomo</td><td>207.50</td><td>Low</td></tr>",
                            "<tr><td>GODOS</td><td>Godos Cocina Típica</td><td>7064.05</td><td>High</td></tr>",
                            "<tr><td>GOURL</td><td>Gourmet Lanchonetes</td><td>497.00</td><td>Low</td></tr>",
                            "<tr><td>GREAL</td><td>Great Lakes Food Market</td><td>10562.58</td><td>Very High</td></tr>",
                            "<tr><td>HANAR</td><td>Hanari Carnes</td><td>24238.05</td><td>Very High</td></tr>",
                            "<tr><td>HILAA</td><td>HILARION-Abastos</td><td>6132.30</td><td>High</td></tr>",
                            "<tr><td>HUNGO</td><td>Hungry Owl All-Night Grocers</td><td>22796.34</td><td>Very High</td></tr>",
                            "<tr><td>ISLAT</td><td>Island Trading</td><td>2684.60</td><td>Medium</td></tr>",
                            "<tr><td>KOENE</td><td>Königlich Essen</td><td>20204.95</td><td>Very High</td></tr>",
                            "<tr><td>LACOR</td><td>La corne d&#39;abondance</td><td>1992.05</td><td>Medium</td></tr>",
                            "<tr><td>LAMAI</td><td>La maison d&#39;Asie</td><td>1549.95</td><td>Medium</td></tr>",
                            "<tr><td>LAUGB</td><td>Laughing Bacchus Wine Cellars</td><td>187.00</td><td>Low</td></tr>",
                            "<tr><td>LEHMS</td><td>Lehmanns Marktstand</td><td>3342.85</td><td>Medium</td></tr>",
                            "<tr><td>LETSS</td><td>Let&#39;s Stop N Shop</td><td>1450.60</td><td>Medium</td></tr>",
                            "<tr><td>LILAS</td><td>LILA-Supermercado</td><td>5994.06</td><td>High</td></tr>",
                            "<tr><td>LINOD</td><td>LINO-Delicateses</td><td>10085.60</td><td>Very High</td></tr>",
                            "<tr><td>LONEP</td><td>Lonesome Pine Restaurant</td><td>1709.40</td><td>Medium</td></tr>",
                            "<tr><td>MAGAA</td><td>Magazzini Alimentari Riuniti</td><td>1693.00</td><td>Medium</td></tr>",
                            "<tr><td>MAISD</td><td>Maison Dewey</td><td>5000.20</td><td>High</td></tr>",
                            "<tr><td>MORGK</td><td>Morgenstern Gesundkost</td><td>245.00</td><td>Low</td></tr>",
                            "<tr><td>NORTS</td><td>North/South</td><td>45.00</td><td>Low</td></tr>",
                            "<tr><td>OCEAN</td><td>Océano Atlántico Ltda.</td><td>3031.00</td><td>Medium</td></tr>",
                            "<tr><td>OLDWO</td><td>Old World Delicatessen</td><td>5337.65</td><td>High</td></tr>",
                            "<tr><td>OTTIK</td><td>Ottilies Käseladen</td><td>3012.70</td><td>Medium</td></tr>",
                            "<tr><td>PERIC</td><td>Pericles Comidas clásicas</td><td>1496.00</td><td>Medium</td></tr>",
                            "<tr><td>PICCO</td><td>Piccolo und mehr</td><td>4393.75</td><td>Medium</td></tr>",
                            "<tr><td>PRINI</td><td>Princesa Isabel Vinhos</td><td>2633.90</td><td>Medium</td></tr>",
                            "<tr><td>QUEDE</td><td>Que Delícia</td><td>1353.60</td><td>Medium</td></tr>",
                            "<tr><td>QUEEN</td><td>Queen Cozinha</td><td>7007.65</td><td>High</td></tr>",
                            "<tr><td>QUICK</td><td>QUICK-Stop</td><td>40526.99</td><td>Very High</td></tr>",
                            "<tr><td>RANCH</td><td>Rancho grande</td><td>1694.70</td><td>Medium</td></tr>",
                            "<tr><td>RATTC</td><td>Rattlesnake Canyon Grocery</td><td>21725.60</td><td>Very High</td></tr>",
                            "<tr><td>REGGC</td><td>Reggiani Caseifici</td><td>4263.00</td><td>Medium</td></tr>",
                            "<tr><td>RICAR</td><td>Ricardo Adocicados</td><td>7312.00</td><td>High</td></tr>",
                            "<tr><td>RICSU</td><td>Richter Supermarkt</td><td>5497.90</td><td>High</td></tr>",
                            "<tr><td>ROMEY</td><td>Romero y tomillo</td><td>726.89</td><td>Low</td></tr>",
                            "<tr><td>SANTG</td><td>Santé Gourmet</td><td>3976.75</td><td>Medium</td></tr>",
                            "<tr><td>SAVEA</td><td>Save-a-lot Markets</td><td>42806.25</td><td>Very High</td></tr>",
                            "<tr><td>SEVES</td><td>Seven Seas Imports</td><td>1630.00</td><td>Medium</td></tr>",
                            "<tr><td>SIMOB</td><td>Simons bistro</td><td>244.30</td><td>Low</td></tr>",
                            "<tr><td>SPECD</td><td>Spécialités du monde</td><td>2371.00</td><td>Medium</td></tr>",
                            "<tr><td>SPLIR</td><td>Split Rail Beer &amp; Ale</td><td>1117.00</td><td>Medium</td></tr>",
                            "<tr><td>SUPRD</td><td>Suprêmes délices</td><td>11862.50</td><td>Very High</td></tr>",
                            "<tr><td>THEBI</td><td>The Big Cheese</td><td>69.60</td><td>Low</td></tr>",
                            "<tr><td>THECR</td><td>The Cracker Box</td><td>326.00</td><td>Low</td></tr>",
                            "<tr><td>TOMSP</td><td>Toms Spezialitäten</td><td>910.40</td><td>Low</td></tr>",
                            "<tr><td>TORTU</td><td>Tortuga Restaurante</td><td>1874.50</td><td>Medium</td></tr>",
                            "<tr><td>TRADH</td><td>Tradição Hipermercados</td><td>4401.62</td><td>Medium</td></tr>",
                            "<tr><td>TRAIH</td><td>Trail&#39;s Head Gourmet Provisioners</td><td>237.90</td><td>Low</td></tr>",
                            "<tr><td>VAFFE</td><td>Vaffeljernet</td><td>4333.50</td><td>Medium</td></tr>",
                            "<tr><td>VICTE</td><td>Victuailles en stock</td><td>3022.00</td><td>Medium</td></tr>",
                            "<tr><td>WANDK</td><td>Die Wandernde Kuh</td><td>1564.00</td><td>Medium</td></tr>",
                            "<tr><td>WARTH</td><td>Wartian Herkku</td><td>300.00</td><td>Low</td></tr>",
                            "<tr><td>WELLI</td><td>Wellington Importadora</td><td>1245.00</td><td>Medium</td></tr>",
                            "<tr><td>WHITC</td><td>White Clover Markets</td><td>15278.90</td><td>Very High</td></tr>",
                            "<tr><td>WILMK</td><td>Wilman Kala</td><td>1987.00</td><td>Medium</td></tr>",
                            "<tr><td>WOLZA</td><td>Wolski  Zajazd</td><td>1865.10</td><td>Medium</td></tr>",
                            "</table>"
                        ]
                    }
                }
            ],
            "execution_count": 6
        },
        {
            "cell_type": "markdown",
            "source": [
                "<span style=\"font-size: 16.000000pt; font-family: 'Cambria'\">52. Countries with suppliers or customers</span>\n",
                "\n",
                "<span style=\"font-size: 12.000000pt; font-family: 'TimesNewRomanPSMT'\">Some Northwind employees are planning a business trip, and would like to visit as many </span> <span style=\"font-size: 12.000000pt; font-family: 'TimesNewRomanPSMT'\">suppliers and customers as possible. For their planning, they’d like to see a list of all </span> <span style=\"font-size: 12.000000pt; font-family: 'TimesNewRomanPSMT'\">countries where suppliers and/or customers are based.&nbsp;</span>"
            ],
            "metadata": {
                "language": "sql",
                "azdata_cell_guid": "dd8af2b5-98dd-470a-9762-210c7b024178"
            },
            "attachments": {}
        },
        {
            "cell_type": "code",
            "source": [
                "\n",
                "SELECT \n",
                "    Country\n",
                "FROM Customers\n",
                "UNION \n",
                "SELECT\n",
                "    Country \n",
                "FROM Suppliers\n",
                "\n",
                "\n",
                ""
            ],
            "metadata": {
                "language": "sql",
                "azdata_cell_guid": "86af1c81-9300-4f03-b7d5-d7e5a9ad2d0c",
                "tags": []
            },
            "outputs": [
                {
                    "output_type": "display_data",
                    "data": {
                        "text/html": "(25 rows affected)"
                    },
                    "metadata": {}
                },
                {
                    "output_type": "display_data",
                    "data": {
                        "text/html": "Total execution time: 00:00:00.005"
                    },
                    "metadata": {}
                },
                {
                    "output_type": "execute_result",
                    "metadata": {},
                    "execution_count": 17,
                    "data": {
                        "application/vnd.dataresource+json": {
                            "schema": {
                                "fields": [
                                    {
                                        "name": "Country"
                                    }
                                ]
                            },
                            "data": [
                                {
                                    "Country": "Argentina"
                                },
                                {
                                    "Country": "Australia"
                                },
                                {
                                    "Country": "Austria"
                                },
                                {
                                    "Country": "Belgium"
                                },
                                {
                                    "Country": "Brazil"
                                },
                                {
                                    "Country": "Canada"
                                },
                                {
                                    "Country": "Denmark"
                                },
                                {
                                    "Country": "Finland"
                                },
                                {
                                    "Country": "France"
                                },
                                {
                                    "Country": "Germany"
                                },
                                {
                                    "Country": "Ireland"
                                },
                                {
                                    "Country": "Italy"
                                },
                                {
                                    "Country": "Japan"
                                },
                                {
                                    "Country": "Mexico"
                                },
                                {
                                    "Country": "Netherlands"
                                },
                                {
                                    "Country": "Norway"
                                },
                                {
                                    "Country": "Poland"
                                },
                                {
                                    "Country": "Portugal"
                                },
                                {
                                    "Country": "Singapore"
                                },
                                {
                                    "Country": "Spain"
                                },
                                {
                                    "Country": "Sweden"
                                },
                                {
                                    "Country": "Switzerland"
                                },
                                {
                                    "Country": "UK"
                                },
                                {
                                    "Country": "USA"
                                },
                                {
                                    "Country": "Venezuela"
                                }
                            ]
                        },
                        "text/html": [
                            "<table>",
                            "<tr><th>Country</th></tr>",
                            "<tr><td>Argentina</td></tr>",
                            "<tr><td>Australia</td></tr>",
                            "<tr><td>Austria</td></tr>",
                            "<tr><td>Belgium</td></tr>",
                            "<tr><td>Brazil</td></tr>",
                            "<tr><td>Canada</td></tr>",
                            "<tr><td>Denmark</td></tr>",
                            "<tr><td>Finland</td></tr>",
                            "<tr><td>France</td></tr>",
                            "<tr><td>Germany</td></tr>",
                            "<tr><td>Ireland</td></tr>",
                            "<tr><td>Italy</td></tr>",
                            "<tr><td>Japan</td></tr>",
                            "<tr><td>Mexico</td></tr>",
                            "<tr><td>Netherlands</td></tr>",
                            "<tr><td>Norway</td></tr>",
                            "<tr><td>Poland</td></tr>",
                            "<tr><td>Portugal</td></tr>",
                            "<tr><td>Singapore</td></tr>",
                            "<tr><td>Spain</td></tr>",
                            "<tr><td>Sweden</td></tr>",
                            "<tr><td>Switzerland</td></tr>",
                            "<tr><td>UK</td></tr>",
                            "<tr><td>USA</td></tr>",
                            "<tr><td>Venezuela</td></tr>",
                            "</table>"
                        ]
                    }
                }
            ],
            "execution_count": 17
        },
        {
            "cell_type": "markdown",
            "source": [
                "<span style=\"font-size: 16.000000pt; font-family: 'Cambria'\">53. Countries with suppliers or customers, version 2</span>\n",
                "\n",
                "<span style=\"font-size: 12.000000pt; font-family: 'TimesNewRomanPSMT'\">The employees going on the business trip don’t </span> <span style=\"font-size: 12.000000pt; font-family: 'TimesNewRomanPSMT'\">want just a raw list of countries, they want </span> <span style=\"font-size: 12.000000pt; font-family: 'TimesNewRomanPSMT'\">more details. We’d like to see output like the below, in the Expected Results.&nbsp;</span>"
            ],
            "metadata": {
                "language": "sql",
                "azdata_cell_guid": "38d99c60-11f8-43e2-8c47-de9675b7af8d"
            },
            "attachments": {}
        },
        {
            "cell_type": "code",
            "source": [
                "WITH SupplierCountry AS (\n",
                "SELECT \n",
                "    DISTINCT Country \n",
                "FROM Suppliers\n",
                "),\n",
                "CustomerCountry AS (\n",
                "SELECT \n",
                "    DISTINCT Country\n",
                "FROM Customers\n",
                ")\n",
                "\n",
                "SELECT\n",
                "    SupplierCountry = S.Country,\n",
                "    CustomerCountry = C.Country\n",
                "FROM SupplierCountry S \n",
                "FULL JOIN CustomerCountry C ON S.Country = C.Country"
            ],
            "metadata": {
                "language": "sql",
                "azdata_cell_guid": "f43b3f56-d7b9-4b30-8825-5791a9712e6c",
                "tags": []
            },
            "outputs": [
                {
                    "output_type": "display_data",
                    "data": {
                        "text/html": "(25 rows affected)"
                    },
                    "metadata": {}
                },
                {
                    "output_type": "display_data",
                    "data": {
                        "text/html": "Total execution time: 00:00:00.006"
                    },
                    "metadata": {}
                },
                {
                    "output_type": "execute_result",
                    "metadata": {},
                    "execution_count": 27,
                    "data": {
                        "application/vnd.dataresource+json": {
                            "schema": {
                                "fields": [
                                    {
                                        "name": "SupplierCountry"
                                    },
                                    {
                                        "name": "CustomerCountry"
                                    }
                                ]
                            },
                            "data": [
                                {
                                    "SupplierCountry": "NULL",
                                    "CustomerCountry": "Argentina"
                                },
                                {
                                    "SupplierCountry": "Australia",
                                    "CustomerCountry": "NULL"
                                },
                                {
                                    "SupplierCountry": "NULL",
                                    "CustomerCountry": "Austria"
                                },
                                {
                                    "SupplierCountry": "NULL",
                                    "CustomerCountry": "Belgium"
                                },
                                {
                                    "SupplierCountry": "Brazil",
                                    "CustomerCountry": "Brazil"
                                },
                                {
                                    "SupplierCountry": "Canada",
                                    "CustomerCountry": "Canada"
                                },
                                {
                                    "SupplierCountry": "Denmark",
                                    "CustomerCountry": "Denmark"
                                },
                                {
                                    "SupplierCountry": "Finland",
                                    "CustomerCountry": "Finland"
                                },
                                {
                                    "SupplierCountry": "France",
                                    "CustomerCountry": "France"
                                },
                                {
                                    "SupplierCountry": "Germany",
                                    "CustomerCountry": "Germany"
                                },
                                {
                                    "SupplierCountry": "NULL",
                                    "CustomerCountry": "Ireland"
                                },
                                {
                                    "SupplierCountry": "Italy",
                                    "CustomerCountry": "Italy"
                                },
                                {
                                    "SupplierCountry": "Japan",
                                    "CustomerCountry": "NULL"
                                },
                                {
                                    "SupplierCountry": "NULL",
                                    "CustomerCountry": "Mexico"
                                },
                                {
                                    "SupplierCountry": "Netherlands",
                                    "CustomerCountry": "NULL"
                                },
                                {
                                    "SupplierCountry": "Norway",
                                    "CustomerCountry": "Norway"
                                },
                                {
                                    "SupplierCountry": "NULL",
                                    "CustomerCountry": "Poland"
                                },
                                {
                                    "SupplierCountry": "NULL",
                                    "CustomerCountry": "Portugal"
                                },
                                {
                                    "SupplierCountry": "Singapore",
                                    "CustomerCountry": "NULL"
                                },
                                {
                                    "SupplierCountry": "Spain",
                                    "CustomerCountry": "Spain"
                                },
                                {
                                    "SupplierCountry": "Sweden",
                                    "CustomerCountry": "Sweden"
                                },
                                {
                                    "SupplierCountry": "NULL",
                                    "CustomerCountry": "Switzerland"
                                },
                                {
                                    "SupplierCountry": "UK",
                                    "CustomerCountry": "UK"
                                },
                                {
                                    "SupplierCountry": "USA",
                                    "CustomerCountry": "USA"
                                },
                                {
                                    "SupplierCountry": "NULL",
                                    "CustomerCountry": "Venezuela"
                                }
                            ]
                        },
                        "text/html": [
                            "<table>",
                            "<tr><th>SupplierCountry</th><th>CustomerCountry</th></tr>",
                            "<tr><td>NULL</td><td>Argentina</td></tr>",
                            "<tr><td>Australia</td><td>NULL</td></tr>",
                            "<tr><td>NULL</td><td>Austria</td></tr>",
                            "<tr><td>NULL</td><td>Belgium</td></tr>",
                            "<tr><td>Brazil</td><td>Brazil</td></tr>",
                            "<tr><td>Canada</td><td>Canada</td></tr>",
                            "<tr><td>Denmark</td><td>Denmark</td></tr>",
                            "<tr><td>Finland</td><td>Finland</td></tr>",
                            "<tr><td>France</td><td>France</td></tr>",
                            "<tr><td>Germany</td><td>Germany</td></tr>",
                            "<tr><td>NULL</td><td>Ireland</td></tr>",
                            "<tr><td>Italy</td><td>Italy</td></tr>",
                            "<tr><td>Japan</td><td>NULL</td></tr>",
                            "<tr><td>NULL</td><td>Mexico</td></tr>",
                            "<tr><td>Netherlands</td><td>NULL</td></tr>",
                            "<tr><td>Norway</td><td>Norway</td></tr>",
                            "<tr><td>NULL</td><td>Poland</td></tr>",
                            "<tr><td>NULL</td><td>Portugal</td></tr>",
                            "<tr><td>Singapore</td><td>NULL</td></tr>",
                            "<tr><td>Spain</td><td>Spain</td></tr>",
                            "<tr><td>Sweden</td><td>Sweden</td></tr>",
                            "<tr><td>NULL</td><td>Switzerland</td></tr>",
                            "<tr><td>UK</td><td>UK</td></tr>",
                            "<tr><td>USA</td><td>USA</td></tr>",
                            "<tr><td>NULL</td><td>Venezuela</td></tr>",
                            "</table>"
                        ]
                    }
                }
            ],
            "execution_count": 27
        },
        {
            "cell_type": "markdown",
            "source": [
                "<span style=\"font-size: 16.000000pt; font-family: 'Cambria'\">54. Countries with suppliers or customers, version 3</span>\n",
                "\n",
                "<span style=\"font-size: 12.000000pt; font-family: 'TimesNewRomanPSMT'\">The output in the above practice problem </span> <span style=\"font-size: 12.000000pt; font-family: 'TimesNewRomanPSMT'\">is improved, but it’s still not ideal</span>\n",
                "\n",
                "<span style=\"font-size: 12.000000pt; font-family: 'TimesNewRomanPSMT'\">What we’d really like to see is the country name, the total suppliers, and the </span> <span style=\"font-size: 12.000000pt; font-family: 'TimesNewRomanPSMT'\">total customers.&nbsp;</span>"
            ],
            "metadata": {
                "language": "sql",
                "azdata_cell_guid": "3fe3e238-f38d-439b-b8a9-3c832256b64d"
            },
            "attachments": {}
        },
        {
            "cell_type": "code",
            "source": [
                "WITH CombineCountries AS (\n",
                "SELECT \n",
                "    Country\n",
                "FROM Customers\n",
                "UNION \n",
                "SELECT\n",
                "    Country \n",
                "FROM Suppliers\n",
                "), \n",
                "TotalSuppliers AS (\n",
                "SELECT\n",
                "    Country,\n",
                "    Total = COUNT(*)\n",
                "FROM Suppliers\n",
                "GROUP BY Country\n",
                "),\n",
                "TotalCustomers AS(\n",
                "SELECT \n",
                "    Country,\n",
                "    Total = COUNT(*)\n",
                "FROM Customers \n",
                "GROUP BY Country\n",
                ")\n",
                "\n",
                "\n",
                "SELECT \n",
                "    CC.Country,\n",
                "    TotalSuppliers = ISNULL(TS.Total,0),\n",
                "    TotalCustomers = ISNULL(TC.Total,0)\n",
                "FROM CombineCountries CC\n",
                "FULL JOIN TotalSuppliers TS ON CC.Country = TS.Country\n",
                "FULL JOIN TotalCustomers TC ON CC.Country = TC.Country"
            ],
            "metadata": {
                "language": "sql",
                "azdata_cell_guid": "373affcd-2dda-4815-9773-a67649929e7a"
            },
            "outputs": [
                {
                    "output_type": "display_data",
                    "data": {
                        "text/html": "(25 rows affected)"
                    },
                    "metadata": {}
                },
                {
                    "output_type": "display_data",
                    "data": {
                        "text/html": "Total execution time: 00:00:00.010"
                    },
                    "metadata": {}
                },
                {
                    "output_type": "execute_result",
                    "metadata": {},
                    "execution_count": 32,
                    "data": {
                        "application/vnd.dataresource+json": {
                            "schema": {
                                "fields": [
                                    {
                                        "name": "Country"
                                    },
                                    {
                                        "name": "TotalSuppliers"
                                    },
                                    {
                                        "name": "TotalCustomers"
                                    }
                                ]
                            },
                            "data": [
                                {
                                    "Country": "Argentina",
                                    "TotalSuppliers": "0",
                                    "TotalCustomers": "3"
                                },
                                {
                                    "Country": "Australia",
                                    "TotalSuppliers": "2",
                                    "TotalCustomers": "0"
                                },
                                {
                                    "Country": "Austria",
                                    "TotalSuppliers": "0",
                                    "TotalCustomers": "2"
                                },
                                {
                                    "Country": "Belgium",
                                    "TotalSuppliers": "0",
                                    "TotalCustomers": "2"
                                },
                                {
                                    "Country": "Brazil",
                                    "TotalSuppliers": "1",
                                    "TotalCustomers": "9"
                                },
                                {
                                    "Country": "Canada",
                                    "TotalSuppliers": "2",
                                    "TotalCustomers": "3"
                                },
                                {
                                    "Country": "Denmark",
                                    "TotalSuppliers": "1",
                                    "TotalCustomers": "2"
                                },
                                {
                                    "Country": "Finland",
                                    "TotalSuppliers": "1",
                                    "TotalCustomers": "2"
                                },
                                {
                                    "Country": "France",
                                    "TotalSuppliers": "3",
                                    "TotalCustomers": "11"
                                },
                                {
                                    "Country": "Germany",
                                    "TotalSuppliers": "3",
                                    "TotalCustomers": "11"
                                },
                                {
                                    "Country": "Ireland",
                                    "TotalSuppliers": "0",
                                    "TotalCustomers": "1"
                                },
                                {
                                    "Country": "Italy",
                                    "TotalSuppliers": "2",
                                    "TotalCustomers": "3"
                                },
                                {
                                    "Country": "Japan",
                                    "TotalSuppliers": "2",
                                    "TotalCustomers": "0"
                                },
                                {
                                    "Country": "Mexico",
                                    "TotalSuppliers": "0",
                                    "TotalCustomers": "5"
                                },
                                {
                                    "Country": "Netherlands",
                                    "TotalSuppliers": "1",
                                    "TotalCustomers": "0"
                                },
                                {
                                    "Country": "Norway",
                                    "TotalSuppliers": "1",
                                    "TotalCustomers": "1"
                                },
                                {
                                    "Country": "Poland",
                                    "TotalSuppliers": "0",
                                    "TotalCustomers": "1"
                                },
                                {
                                    "Country": "Portugal",
                                    "TotalSuppliers": "0",
                                    "TotalCustomers": "2"
                                },
                                {
                                    "Country": "Singapore",
                                    "TotalSuppliers": "1",
                                    "TotalCustomers": "0"
                                },
                                {
                                    "Country": "Spain",
                                    "TotalSuppliers": "1",
                                    "TotalCustomers": "5"
                                },
                                {
                                    "Country": "Sweden",
                                    "TotalSuppliers": "2",
                                    "TotalCustomers": "2"
                                },
                                {
                                    "Country": "Switzerland",
                                    "TotalSuppliers": "0",
                                    "TotalCustomers": "2"
                                },
                                {
                                    "Country": "UK",
                                    "TotalSuppliers": "2",
                                    "TotalCustomers": "7"
                                },
                                {
                                    "Country": "USA",
                                    "TotalSuppliers": "4",
                                    "TotalCustomers": "13"
                                },
                                {
                                    "Country": "Venezuela",
                                    "TotalSuppliers": "0",
                                    "TotalCustomers": "4"
                                }
                            ]
                        },
                        "text/html": [
                            "<table>",
                            "<tr><th>Country</th><th>TotalSuppliers</th><th>TotalCustomers</th></tr>",
                            "<tr><td>Argentina</td><td>0</td><td>3</td></tr>",
                            "<tr><td>Australia</td><td>2</td><td>0</td></tr>",
                            "<tr><td>Austria</td><td>0</td><td>2</td></tr>",
                            "<tr><td>Belgium</td><td>0</td><td>2</td></tr>",
                            "<tr><td>Brazil</td><td>1</td><td>9</td></tr>",
                            "<tr><td>Canada</td><td>2</td><td>3</td></tr>",
                            "<tr><td>Denmark</td><td>1</td><td>2</td></tr>",
                            "<tr><td>Finland</td><td>1</td><td>2</td></tr>",
                            "<tr><td>France</td><td>3</td><td>11</td></tr>",
                            "<tr><td>Germany</td><td>3</td><td>11</td></tr>",
                            "<tr><td>Ireland</td><td>0</td><td>1</td></tr>",
                            "<tr><td>Italy</td><td>2</td><td>3</td></tr>",
                            "<tr><td>Japan</td><td>2</td><td>0</td></tr>",
                            "<tr><td>Mexico</td><td>0</td><td>5</td></tr>",
                            "<tr><td>Netherlands</td><td>1</td><td>0</td></tr>",
                            "<tr><td>Norway</td><td>1</td><td>1</td></tr>",
                            "<tr><td>Poland</td><td>0</td><td>1</td></tr>",
                            "<tr><td>Portugal</td><td>0</td><td>2</td></tr>",
                            "<tr><td>Singapore</td><td>1</td><td>0</td></tr>",
                            "<tr><td>Spain</td><td>1</td><td>5</td></tr>",
                            "<tr><td>Sweden</td><td>2</td><td>2</td></tr>",
                            "<tr><td>Switzerland</td><td>0</td><td>2</td></tr>",
                            "<tr><td>UK</td><td>2</td><td>7</td></tr>",
                            "<tr><td>USA</td><td>4</td><td>13</td></tr>",
                            "<tr><td>Venezuela</td><td>0</td><td>4</td></tr>",
                            "</table>"
                        ]
                    }
                }
            ],
            "execution_count": 32
        },
        {
            "cell_type": "code",
            "source": [
                "WITH TotalSuppliers AS (\n",
                "SELECT\n",
                "    Country,\n",
                "    Total = COUNT(*)\n",
                "FROM Suppliers\n",
                "GROUP BY Country\n",
                "),\n",
                "TotalCustomers AS(\n",
                "SELECT \n",
                "    Country,\n",
                "    Total = COUNT(*)\n",
                "FROM Customers \n",
                "GROUP BY Country\n",
                ")\n",
                "\n",
                "SELECT\n",
                "    Country = ISNULL(TS.Country,TC.Country),\n",
                "    TotalSuppliers = ISNULL(TS.Total,0),\n",
                "    TotalCustomers = ISNULL(TC.Total,0)\n",
                "FROM TotalSuppliers TS \n",
                "FULL JOIN TotalCustomers TC ON TS.Country = TC.Country"
            ],
            "metadata": {
                "language": "sql",
                "azdata_cell_guid": "543a1582-b21d-4428-8e65-b373ce457a92"
            },
            "outputs": [
                {
                    "output_type": "display_data",
                    "data": {
                        "text/html": "(25 rows affected)"
                    },
                    "metadata": {}
                },
                {
                    "output_type": "display_data",
                    "data": {
                        "text/html": "Total execution time: 00:00:00.007"
                    },
                    "metadata": {}
                },
                {
                    "output_type": "execute_result",
                    "metadata": {},
                    "execution_count": 33,
                    "data": {
                        "application/vnd.dataresource+json": {
                            "schema": {
                                "fields": [
                                    {
                                        "name": "Country"
                                    },
                                    {
                                        "name": "TotalSuppliers"
                                    },
                                    {
                                        "name": "TotalCustomers"
                                    }
                                ]
                            },
                            "data": [
                                {
                                    "Country": "Argentina",
                                    "TotalSuppliers": "0",
                                    "TotalCustomers": "3"
                                },
                                {
                                    "Country": "Australia",
                                    "TotalSuppliers": "2",
                                    "TotalCustomers": "0"
                                },
                                {
                                    "Country": "Austria",
                                    "TotalSuppliers": "0",
                                    "TotalCustomers": "2"
                                },
                                {
                                    "Country": "Belgium",
                                    "TotalSuppliers": "0",
                                    "TotalCustomers": "2"
                                },
                                {
                                    "Country": "Brazil",
                                    "TotalSuppliers": "1",
                                    "TotalCustomers": "9"
                                },
                                {
                                    "Country": "Canada",
                                    "TotalSuppliers": "2",
                                    "TotalCustomers": "3"
                                },
                                {
                                    "Country": "Denmark",
                                    "TotalSuppliers": "1",
                                    "TotalCustomers": "2"
                                },
                                {
                                    "Country": "Finland",
                                    "TotalSuppliers": "1",
                                    "TotalCustomers": "2"
                                },
                                {
                                    "Country": "France",
                                    "TotalSuppliers": "3",
                                    "TotalCustomers": "11"
                                },
                                {
                                    "Country": "Germany",
                                    "TotalSuppliers": "3",
                                    "TotalCustomers": "11"
                                },
                                {
                                    "Country": "Ireland",
                                    "TotalSuppliers": "0",
                                    "TotalCustomers": "1"
                                },
                                {
                                    "Country": "Italy",
                                    "TotalSuppliers": "2",
                                    "TotalCustomers": "3"
                                },
                                {
                                    "Country": "Japan",
                                    "TotalSuppliers": "2",
                                    "TotalCustomers": "0"
                                },
                                {
                                    "Country": "Mexico",
                                    "TotalSuppliers": "0",
                                    "TotalCustomers": "5"
                                },
                                {
                                    "Country": "Netherlands",
                                    "TotalSuppliers": "1",
                                    "TotalCustomers": "0"
                                },
                                {
                                    "Country": "Norway",
                                    "TotalSuppliers": "1",
                                    "TotalCustomers": "1"
                                },
                                {
                                    "Country": "Poland",
                                    "TotalSuppliers": "0",
                                    "TotalCustomers": "1"
                                },
                                {
                                    "Country": "Portugal",
                                    "TotalSuppliers": "0",
                                    "TotalCustomers": "2"
                                },
                                {
                                    "Country": "Singapore",
                                    "TotalSuppliers": "1",
                                    "TotalCustomers": "0"
                                },
                                {
                                    "Country": "Spain",
                                    "TotalSuppliers": "1",
                                    "TotalCustomers": "5"
                                },
                                {
                                    "Country": "Sweden",
                                    "TotalSuppliers": "2",
                                    "TotalCustomers": "2"
                                },
                                {
                                    "Country": "Switzerland",
                                    "TotalSuppliers": "0",
                                    "TotalCustomers": "2"
                                },
                                {
                                    "Country": "UK",
                                    "TotalSuppliers": "2",
                                    "TotalCustomers": "7"
                                },
                                {
                                    "Country": "USA",
                                    "TotalSuppliers": "4",
                                    "TotalCustomers": "13"
                                },
                                {
                                    "Country": "Venezuela",
                                    "TotalSuppliers": "0",
                                    "TotalCustomers": "4"
                                }
                            ]
                        },
                        "text/html": [
                            "<table>",
                            "<tr><th>Country</th><th>TotalSuppliers</th><th>TotalCustomers</th></tr>",
                            "<tr><td>Argentina</td><td>0</td><td>3</td></tr>",
                            "<tr><td>Australia</td><td>2</td><td>0</td></tr>",
                            "<tr><td>Austria</td><td>0</td><td>2</td></tr>",
                            "<tr><td>Belgium</td><td>0</td><td>2</td></tr>",
                            "<tr><td>Brazil</td><td>1</td><td>9</td></tr>",
                            "<tr><td>Canada</td><td>2</td><td>3</td></tr>",
                            "<tr><td>Denmark</td><td>1</td><td>2</td></tr>",
                            "<tr><td>Finland</td><td>1</td><td>2</td></tr>",
                            "<tr><td>France</td><td>3</td><td>11</td></tr>",
                            "<tr><td>Germany</td><td>3</td><td>11</td></tr>",
                            "<tr><td>Ireland</td><td>0</td><td>1</td></tr>",
                            "<tr><td>Italy</td><td>2</td><td>3</td></tr>",
                            "<tr><td>Japan</td><td>2</td><td>0</td></tr>",
                            "<tr><td>Mexico</td><td>0</td><td>5</td></tr>",
                            "<tr><td>Netherlands</td><td>1</td><td>0</td></tr>",
                            "<tr><td>Norway</td><td>1</td><td>1</td></tr>",
                            "<tr><td>Poland</td><td>0</td><td>1</td></tr>",
                            "<tr><td>Portugal</td><td>0</td><td>2</td></tr>",
                            "<tr><td>Singapore</td><td>1</td><td>0</td></tr>",
                            "<tr><td>Spain</td><td>1</td><td>5</td></tr>",
                            "<tr><td>Sweden</td><td>2</td><td>2</td></tr>",
                            "<tr><td>Switzerland</td><td>0</td><td>2</td></tr>",
                            "<tr><td>UK</td><td>2</td><td>7</td></tr>",
                            "<tr><td>USA</td><td>4</td><td>13</td></tr>",
                            "<tr><td>Venezuela</td><td>0</td><td>4</td></tr>",
                            "</table>"
                        ]
                    }
                }
            ],
            "execution_count": 33
        },
        {
            "cell_type": "code",
            "source": [
                "SELECT DISTINCT \n",
                "    Country = ISNULL(S.Country,C.Country)\n",
                "FROM Suppliers S\n",
                "FULL JOIN Customers C ON S.Country = C.Country"
            ],
            "metadata": {
                "language": "sql",
                "azdata_cell_guid": "1f7a2df4-53bb-4c1c-9ebe-3a796b595f62"
            },
            "outputs": [
                {
                    "output_type": "display_data",
                    "data": {
                        "text/html": "(25 rows affected)"
                    },
                    "metadata": {}
                },
                {
                    "output_type": "display_data",
                    "data": {
                        "text/html": "Total execution time: 00:00:00.007"
                    },
                    "metadata": {}
                },
                {
                    "output_type": "execute_result",
                    "metadata": {},
                    "execution_count": 34,
                    "data": {
                        "application/vnd.dataresource+json": {
                            "schema": {
                                "fields": [
                                    {
                                        "name": "Country"
                                    }
                                ]
                            },
                            "data": [
                                {
                                    "Country": "Argentina"
                                },
                                {
                                    "Country": "Australia"
                                },
                                {
                                    "Country": "Austria"
                                },
                                {
                                    "Country": "Belgium"
                                },
                                {
                                    "Country": "Brazil"
                                },
                                {
                                    "Country": "Canada"
                                },
                                {
                                    "Country": "Denmark"
                                },
                                {
                                    "Country": "Finland"
                                },
                                {
                                    "Country": "France"
                                },
                                {
                                    "Country": "Germany"
                                },
                                {
                                    "Country": "Ireland"
                                },
                                {
                                    "Country": "Italy"
                                },
                                {
                                    "Country": "Japan"
                                },
                                {
                                    "Country": "Mexico"
                                },
                                {
                                    "Country": "Netherlands"
                                },
                                {
                                    "Country": "Norway"
                                },
                                {
                                    "Country": "Poland"
                                },
                                {
                                    "Country": "Portugal"
                                },
                                {
                                    "Country": "Singapore"
                                },
                                {
                                    "Country": "Spain"
                                },
                                {
                                    "Country": "Sweden"
                                },
                                {
                                    "Country": "Switzerland"
                                },
                                {
                                    "Country": "UK"
                                },
                                {
                                    "Country": "USA"
                                },
                                {
                                    "Country": "Venezuela"
                                }
                            ]
                        },
                        "text/html": [
                            "<table>",
                            "<tr><th>Country</th></tr>",
                            "<tr><td>Argentina</td></tr>",
                            "<tr><td>Australia</td></tr>",
                            "<tr><td>Austria</td></tr>",
                            "<tr><td>Belgium</td></tr>",
                            "<tr><td>Brazil</td></tr>",
                            "<tr><td>Canada</td></tr>",
                            "<tr><td>Denmark</td></tr>",
                            "<tr><td>Finland</td></tr>",
                            "<tr><td>France</td></tr>",
                            "<tr><td>Germany</td></tr>",
                            "<tr><td>Ireland</td></tr>",
                            "<tr><td>Italy</td></tr>",
                            "<tr><td>Japan</td></tr>",
                            "<tr><td>Mexico</td></tr>",
                            "<tr><td>Netherlands</td></tr>",
                            "<tr><td>Norway</td></tr>",
                            "<tr><td>Poland</td></tr>",
                            "<tr><td>Portugal</td></tr>",
                            "<tr><td>Singapore</td></tr>",
                            "<tr><td>Spain</td></tr>",
                            "<tr><td>Sweden</td></tr>",
                            "<tr><td>Switzerland</td></tr>",
                            "<tr><td>UK</td></tr>",
                            "<tr><td>USA</td></tr>",
                            "<tr><td>Venezuela</td></tr>",
                            "</table>"
                        ]
                    }
                }
            ],
            "execution_count": 34
        },
        {
            "cell_type": "markdown",
            "source": [
                "<span style=\"font-size: 16.000000pt; font-family: 'Cambria'\">55. First order in each country</span>\n",
                "\n",
                "<span style=\"font-size: 12.000000pt; font-family: 'TimesNewRomanPSMT'\">Looking at the Orders table</span><span style=\"font-size: 12.000000pt; font-family: 'TimesNewRomanPSMT'\">—we’d like to show details for each order that was the </span> <span style=\"font-size: 12.000000pt; font-family: 'TimesNewRomanPSMT'\">first in that particular country, ordered by OrderID.</span>\n",
                "\n",
                "<span style=\"font-size: 12.000000pt; font-family: 'TimesNewRomanPSMT'\">So, for each country, we want one row. That row should contain the earliest order for that country, with the associated ShipCountry, CustomerID, OrderID, and OrderDate.&nbsp;</span>"
            ],
            "metadata": {
                "language": "sql",
                "azdata_cell_guid": "55f184a1-f70c-499f-bb7c-436896589322"
            },
            "attachments": {}
        },
        {
            "cell_type": "code",
            "source": [
                "WITH OrdersbyCountry AS (SELECT \n",
                "    ShipCountry,\n",
                "    CustomerID,\n",
                "    OrderID, \n",
                "    OrderDate = CONVERT(date,OrderDate), \n",
                "    RowNumberPerCountry = ROW_NUMBER() \n",
                "                            OVER(PARTITION BY ShipCountry ORDER BY ShipCountry,OrderID ) \n",
                "FROM Orders)\n",
                "\n",
                "SELECT \n",
                "    ShipCountry,\n",
                "    CustomerID,\n",
                "    OrderID,\n",
                "    OrderDate\n",
                "FROM OrdersbyCountry\n",
                "WHERE RowNumberPerCountry = 1\n",
                "ORDER BY ShipCountry\n",
                "\n",
                ""
            ],
            "metadata": {
                "language": "sql",
                "azdata_cell_guid": "5d90827e-4415-4294-876a-106b0059b4b9"
            },
            "outputs": [
                {
                    "output_type": "display_data",
                    "data": {
                        "text/html": "(21 rows affected)"
                    },
                    "metadata": {}
                },
                {
                    "output_type": "display_data",
                    "data": {
                        "text/html": "Total execution time: 00:00:00.006"
                    },
                    "metadata": {}
                },
                {
                    "output_type": "execute_result",
                    "metadata": {},
                    "execution_count": 47,
                    "data": {
                        "application/vnd.dataresource+json": {
                            "schema": {
                                "fields": [
                                    {
                                        "name": "ShipCountry"
                                    },
                                    {
                                        "name": "CustomerID"
                                    },
                                    {
                                        "name": "OrderID"
                                    },
                                    {
                                        "name": "OrderDate"
                                    }
                                ]
                            },
                            "data": [
                                {
                                    "ShipCountry": "Argentina",
                                    "CustomerID": "OCEAN",
                                    "OrderID": "10409",
                                    "OrderDate": "2015-01-09"
                                },
                                {
                                    "ShipCountry": "Austria",
                                    "CustomerID": "ERNSH",
                                    "OrderID": "10258",
                                    "OrderDate": "2014-07-17"
                                },
                                {
                                    "ShipCountry": "Belgium",
                                    "CustomerID": "SUPRD",
                                    "OrderID": "10252",
                                    "OrderDate": "2014-07-09"
                                },
                                {
                                    "ShipCountry": "Brazil",
                                    "CustomerID": "HANAR",
                                    "OrderID": "10250",
                                    "OrderDate": "2014-07-08"
                                },
                                {
                                    "ShipCountry": "Canada",
                                    "CustomerID": "MEREP",
                                    "OrderID": "10332",
                                    "OrderDate": "2014-10-17"
                                },
                                {
                                    "ShipCountry": "Denmark",
                                    "CustomerID": "SIMOB",
                                    "OrderID": "10341",
                                    "OrderDate": "2014-10-29"
                                },
                                {
                                    "ShipCountry": "Finland",
                                    "CustomerID": "WARTH",
                                    "OrderID": "10266",
                                    "OrderDate": "2014-07-26"
                                },
                                {
                                    "ShipCountry": "France",
                                    "CustomerID": "VINET",
                                    "OrderID": "10248",
                                    "OrderDate": "2014-07-04"
                                },
                                {
                                    "ShipCountry": "Germany",
                                    "CustomerID": "TOMSP",
                                    "OrderID": "10249",
                                    "OrderDate": "2014-07-05"
                                },
                                {
                                    "ShipCountry": "Ireland",
                                    "CustomerID": "HUNGO",
                                    "OrderID": "10298",
                                    "OrderDate": "2014-09-05"
                                },
                                {
                                    "ShipCountry": "Italy",
                                    "CustomerID": "MAGAA",
                                    "OrderID": "10275",
                                    "OrderDate": "2014-08-07"
                                },
                                {
                                    "ShipCountry": "Mexico",
                                    "CustomerID": "CENTC",
                                    "OrderID": "10259",
                                    "OrderDate": "2014-07-18"
                                },
                                {
                                    "ShipCountry": "Norway",
                                    "CustomerID": "SANTG",
                                    "OrderID": "10387",
                                    "OrderDate": "2014-12-18"
                                },
                                {
                                    "ShipCountry": "Poland",
                                    "CustomerID": "WOLZA",
                                    "OrderID": "10374",
                                    "OrderDate": "2014-12-05"
                                },
                                {
                                    "ShipCountry": "Portugal",
                                    "CustomerID": "FURIB",
                                    "OrderID": "10328",
                                    "OrderDate": "2014-10-14"
                                },
                                {
                                    "ShipCountry": "Spain",
                                    "CustomerID": "ROMEY",
                                    "OrderID": "10281",
                                    "OrderDate": "2014-08-14"
                                },
                                {
                                    "ShipCountry": "Sweden",
                                    "CustomerID": "FOLKO",
                                    "OrderID": "10264",
                                    "OrderDate": "2014-07-24"
                                },
                                {
                                    "ShipCountry": "Switzerland",
                                    "CustomerID": "CHOPS",
                                    "OrderID": "10254",
                                    "OrderDate": "2014-07-11"
                                },
                                {
                                    "ShipCountry": "UK",
                                    "CustomerID": "BSBEV",
                                    "OrderID": "10289",
                                    "OrderDate": "2014-08-26"
                                },
                                {
                                    "ShipCountry": "USA",
                                    "CustomerID": "RATTC",
                                    "OrderID": "10262",
                                    "OrderDate": "2014-07-22"
                                },
                                {
                                    "ShipCountry": "Venezuela",
                                    "CustomerID": "HILAA",
                                    "OrderID": "10257",
                                    "OrderDate": "2014-07-16"
                                }
                            ]
                        },
                        "text/html": [
                            "<table>",
                            "<tr><th>ShipCountry</th><th>CustomerID</th><th>OrderID</th><th>OrderDate</th></tr>",
                            "<tr><td>Argentina</td><td>OCEAN</td><td>10409</td><td>2015-01-09</td></tr>",
                            "<tr><td>Austria</td><td>ERNSH</td><td>10258</td><td>2014-07-17</td></tr>",
                            "<tr><td>Belgium</td><td>SUPRD</td><td>10252</td><td>2014-07-09</td></tr>",
                            "<tr><td>Brazil</td><td>HANAR</td><td>10250</td><td>2014-07-08</td></tr>",
                            "<tr><td>Canada</td><td>MEREP</td><td>10332</td><td>2014-10-17</td></tr>",
                            "<tr><td>Denmark</td><td>SIMOB</td><td>10341</td><td>2014-10-29</td></tr>",
                            "<tr><td>Finland</td><td>WARTH</td><td>10266</td><td>2014-07-26</td></tr>",
                            "<tr><td>France</td><td>VINET</td><td>10248</td><td>2014-07-04</td></tr>",
                            "<tr><td>Germany</td><td>TOMSP</td><td>10249</td><td>2014-07-05</td></tr>",
                            "<tr><td>Ireland</td><td>HUNGO</td><td>10298</td><td>2014-09-05</td></tr>",
                            "<tr><td>Italy</td><td>MAGAA</td><td>10275</td><td>2014-08-07</td></tr>",
                            "<tr><td>Mexico</td><td>CENTC</td><td>10259</td><td>2014-07-18</td></tr>",
                            "<tr><td>Norway</td><td>SANTG</td><td>10387</td><td>2014-12-18</td></tr>",
                            "<tr><td>Poland</td><td>WOLZA</td><td>10374</td><td>2014-12-05</td></tr>",
                            "<tr><td>Portugal</td><td>FURIB</td><td>10328</td><td>2014-10-14</td></tr>",
                            "<tr><td>Spain</td><td>ROMEY</td><td>10281</td><td>2014-08-14</td></tr>",
                            "<tr><td>Sweden</td><td>FOLKO</td><td>10264</td><td>2014-07-24</td></tr>",
                            "<tr><td>Switzerland</td><td>CHOPS</td><td>10254</td><td>2014-07-11</td></tr>",
                            "<tr><td>UK</td><td>BSBEV</td><td>10289</td><td>2014-08-26</td></tr>",
                            "<tr><td>USA</td><td>RATTC</td><td>10262</td><td>2014-07-22</td></tr>",
                            "<tr><td>Venezuela</td><td>HILAA</td><td>10257</td><td>2014-07-16</td></tr>",
                            "</table>"
                        ]
                    }
                }
            ],
            "execution_count": 47
        },
        {
            "cell_type": "markdown",
            "source": [
                "<span style=\"font-size: 16.000000pt; font-family: 'Cambria'\">56. Customers with multiple orders in 5 day period</span>\n",
                "\n",
                "<span style=\"font-size: 12.000000pt; font-family: 'TimesNewRomanPSMT'\">There are some customers for whom freight is a major expense when ordering from Northwind.</span>\n",
                "\n",
                "<span style=\"font-size: 12.000000pt; font-family: 'TimesNewRomanPSMT'\">However, by batching up their orders, and making one larger order instead of multiple smaller orders in a short period of time, they could reduce their freight costs significantly.</span>\n",
                "\n",
                "<span style=\"font-size: 12.000000pt; font-family: 'TimesNewRomanPSMT'\">Show those customers who have made more than 1 order in a 5 day period. The salespeople will use this to help customers reduce their freight costs.</span>\n",
                "\n",
                "<span style=\"font-size: 12.000000pt; font-family: 'TimesNewRomanPSMT'\">Note: There is more than one way of solving this kind of problem. This time, we will </span> <span style=\"font-size: 12.000000pt; font-family: 'TimesNewRomanPS'; font-style: italic\">not </span> <span style=\"font-size: 12.000000pt; font-family: 'TimesNewRomanPSMT'\">be using Window functions.&nbsp;</span>"
            ],
            "metadata": {
                "language": "sql",
                "azdata_cell_guid": "d318ad3f-8e4a-4700-926a-8a63662fdf7b"
            },
            "attachments": {}
        },
        {
            "cell_type": "code",
            "source": [
                "SELECT \n",
                "    I.CustomerID, \n",
                "    InitalOrderId = I.OrderID,\n",
                "    InitalOrderDate = CONVERT(date,I.OrderDate),\n",
                "    NextOrderId = N.OrderID,\n",
                "    MextOrderDate = CONVERT(date,N.OrderDate),\n",
                "    DaysbetweenOrders = datediff(dd,I.OrderDate,N.OrderDate)\n",
                "FROM Orders I\n",
                "JOIN Orders N ON I.CustomerId = N.CustomerId\n",
                "WHERE I.OrderID < N.OrderID\n",
                "AND Datediff(dd,I.OrderDate,N.OrderDate)<=5\n",
                "ORDER BY I.CustomerID,I.OrderId \n",
                ""
            ],
            "metadata": {
                "language": "sql",
                "azdata_cell_guid": "09fd4f75-7443-40c7-b3d4-3227e1cf3bd7",
                "tags": []
            },
            "outputs": [
                {
                    "output_type": "display_data",
                    "data": {
                        "text/html": "(71 rows affected)"
                    },
                    "metadata": {}
                },
                {
                    "output_type": "display_data",
                    "data": {
                        "text/html": "Total execution time: 00:00:00.015"
                    },
                    "metadata": {}
                },
                {
                    "output_type": "execute_result",
                    "metadata": {},
                    "execution_count": 63,
                    "data": {
                        "application/vnd.dataresource+json": {
                            "schema": {
                                "fields": [
                                    {
                                        "name": "CustomerID"
                                    },
                                    {
                                        "name": "InitalOrderId"
                                    },
                                    {
                                        "name": "InitalOrderDate"
                                    },
                                    {
                                        "name": "NextOrderId"
                                    },
                                    {
                                        "name": "MextOrderDate"
                                    },
                                    {
                                        "name": "DaysbetweenOrders"
                                    }
                                ]
                            },
                            "data": [
                                {
                                    "CustomerID": "ANTON",
                                    "InitalOrderId": "10677",
                                    "InitalOrderDate": "2015-09-22",
                                    "NextOrderId": "10682",
                                    "MextOrderDate": "2015-09-25",
                                    "DaysbetweenOrders": "3"
                                },
                                {
                                    "CustomerID": "AROUT",
                                    "InitalOrderId": "10741",
                                    "InitalOrderDate": "2015-11-14",
                                    "NextOrderId": "10743",
                                    "MextOrderDate": "2015-11-17",
                                    "DaysbetweenOrders": "3"
                                },
                                {
                                    "CustomerID": "BERGS",
                                    "InitalOrderId": "10278",
                                    "InitalOrderDate": "2014-08-12",
                                    "NextOrderId": "10280",
                                    "MextOrderDate": "2014-08-14",
                                    "DaysbetweenOrders": "2"
                                },
                                {
                                    "CustomerID": "BERGS",
                                    "InitalOrderId": "10444",
                                    "InitalOrderDate": "2015-02-12",
                                    "NextOrderId": "10445",
                                    "MextOrderDate": "2015-02-13",
                                    "DaysbetweenOrders": "1"
                                },
                                {
                                    "CustomerID": "BERGS",
                                    "InitalOrderId": "10866",
                                    "InitalOrderDate": "2016-02-03",
                                    "NextOrderId": "10875",
                                    "MextOrderDate": "2016-02-06",
                                    "DaysbetweenOrders": "3"
                                },
                                {
                                    "CustomerID": "BONAP",
                                    "InitalOrderId": "10730",
                                    "InitalOrderDate": "2015-11-05",
                                    "NextOrderId": "10732",
                                    "MextOrderDate": "2015-11-06",
                                    "DaysbetweenOrders": "1"
                                },
                                {
                                    "CustomerID": "BONAP",
                                    "InitalOrderId": "10871",
                                    "InitalOrderDate": "2016-02-05",
                                    "NextOrderId": "10876",
                                    "MextOrderDate": "2016-02-09",
                                    "DaysbetweenOrders": "4"
                                },
                                {
                                    "CustomerID": "BONAP",
                                    "InitalOrderId": "10932",
                                    "InitalOrderDate": "2016-03-06",
                                    "NextOrderId": "10940",
                                    "MextOrderDate": "2016-03-11",
                                    "DaysbetweenOrders": "5"
                                },
                                {
                                    "CustomerID": "BOTTM",
                                    "InitalOrderId": "10410",
                                    "InitalOrderDate": "2015-01-10",
                                    "NextOrderId": "10411",
                                    "MextOrderDate": "2015-01-10",
                                    "DaysbetweenOrders": "0"
                                },
                                {
                                    "CustomerID": "BOTTM",
                                    "InitalOrderId": "10944",
                                    "InitalOrderDate": "2016-03-12",
                                    "NextOrderId": "10949",
                                    "MextOrderDate": "2016-03-13",
                                    "DaysbetweenOrders": "1"
                                },
                                {
                                    "CustomerID": "BOTTM",
                                    "InitalOrderId": "10975",
                                    "InitalOrderDate": "2016-03-25",
                                    "NextOrderId": "10982",
                                    "MextOrderDate": "2016-03-27",
                                    "DaysbetweenOrders": "2"
                                },
                                {
                                    "CustomerID": "BOTTM",
                                    "InitalOrderId": "11045",
                                    "InitalOrderDate": "2016-04-23",
                                    "NextOrderId": "11048",
                                    "MextOrderDate": "2016-04-24",
                                    "DaysbetweenOrders": "1"
                                },
                                {
                                    "CustomerID": "BSBEV",
                                    "InitalOrderId": "10538",
                                    "InitalOrderDate": "2015-05-15",
                                    "NextOrderId": "10539",
                                    "MextOrderDate": "2015-05-16",
                                    "DaysbetweenOrders": "1"
                                },
                                {
                                    "CustomerID": "BSBEV",
                                    "InitalOrderId": "10943",
                                    "InitalOrderDate": "2016-03-11",
                                    "NextOrderId": "10947",
                                    "MextOrderDate": "2016-03-13",
                                    "DaysbetweenOrders": "2"
                                },
                                {
                                    "CustomerID": "EASTC",
                                    "InitalOrderId": "11047",
                                    "InitalOrderDate": "2016-04-24",
                                    "NextOrderId": "11056",
                                    "MextOrderDate": "2016-04-28",
                                    "DaysbetweenOrders": "4"
                                },
                                {
                                    "CustomerID": "ERNSH",
                                    "InitalOrderId": "10402",
                                    "InitalOrderDate": "2015-01-02",
                                    "NextOrderId": "10403",
                                    "MextOrderDate": "2015-01-03",
                                    "DaysbetweenOrders": "1"
                                },
                                {
                                    "CustomerID": "ERNSH",
                                    "InitalOrderId": "10771",
                                    "InitalOrderDate": "2015-12-10",
                                    "NextOrderId": "10773",
                                    "MextOrderDate": "2015-12-11",
                                    "DaysbetweenOrders": "1"
                                },
                                {
                                    "CustomerID": "ERNSH",
                                    "InitalOrderId": "10771",
                                    "InitalOrderDate": "2015-12-10",
                                    "NextOrderId": "10776",
                                    "MextOrderDate": "2015-12-15",
                                    "DaysbetweenOrders": "5"
                                },
                                {
                                    "CustomerID": "ERNSH",
                                    "InitalOrderId": "10773",
                                    "InitalOrderDate": "2015-12-11",
                                    "NextOrderId": "10776",
                                    "MextOrderDate": "2015-12-15",
                                    "DaysbetweenOrders": "4"
                                },
                                {
                                    "CustomerID": "ERNSH",
                                    "InitalOrderId": "10968",
                                    "InitalOrderDate": "2016-03-23",
                                    "NextOrderId": "10979",
                                    "MextOrderDate": "2016-03-26",
                                    "DaysbetweenOrders": "3"
                                },
                                {
                                    "CustomerID": "ERNSH",
                                    "InitalOrderId": "11008",
                                    "InitalOrderDate": "2016-04-08",
                                    "NextOrderId": "11017",
                                    "MextOrderDate": "2016-04-13",
                                    "DaysbetweenOrders": "5"
                                },
                                {
                                    "CustomerID": "FOLKO",
                                    "InitalOrderId": "10977",
                                    "InitalOrderDate": "2016-03-26",
                                    "NextOrderId": "10980",
                                    "MextOrderDate": "2016-03-27",
                                    "DaysbetweenOrders": "1"
                                },
                                {
                                    "CustomerID": "FOLKO",
                                    "InitalOrderId": "10980",
                                    "InitalOrderDate": "2016-03-27",
                                    "NextOrderId": "10993",
                                    "MextOrderDate": "2016-04-01",
                                    "DaysbetweenOrders": "5"
                                },
                                {
                                    "CustomerID": "FOLKO",
                                    "InitalOrderId": "10993",
                                    "InitalOrderDate": "2016-04-01",
                                    "NextOrderId": "11001",
                                    "MextOrderDate": "2016-04-06",
                                    "DaysbetweenOrders": "5"
                                },
                                {
                                    "CustomerID": "FRANK",
                                    "InitalOrderId": "10670",
                                    "InitalOrderDate": "2015-09-16",
                                    "NextOrderId": "10675",
                                    "MextOrderDate": "2015-09-19",
                                    "DaysbetweenOrders": "3"
                                },
                                {
                                    "CustomerID": "GODOS",
                                    "InitalOrderId": "10872",
                                    "InitalOrderDate": "2016-02-05",
                                    "NextOrderId": "10874",
                                    "MextOrderDate": "2016-02-06",
                                    "DaysbetweenOrders": "1"
                                },
                                {
                                    "CustomerID": "GREAL",
                                    "InitalOrderId": "10616",
                                    "InitalOrderDate": "2015-07-31",
                                    "NextOrderId": "10617",
                                    "MextOrderDate": "2015-07-31",
                                    "DaysbetweenOrders": "0"
                                },
                                {
                                    "CustomerID": "HANAR",
                                    "InitalOrderId": "10250",
                                    "InitalOrderDate": "2014-07-08",
                                    "NextOrderId": "10253",
                                    "MextOrderDate": "2014-07-10",
                                    "DaysbetweenOrders": "2"
                                },
                                {
                                    "CustomerID": "HANAR",
                                    "InitalOrderId": "10922",
                                    "InitalOrderDate": "2016-03-03",
                                    "NextOrderId": "10925",
                                    "MextOrderDate": "2016-03-04",
                                    "DaysbetweenOrders": "1"
                                },
                                {
                                    "CustomerID": "HILAA",
                                    "InitalOrderId": "10486",
                                    "InitalOrderDate": "2015-03-26",
                                    "NextOrderId": "10490",
                                    "MextOrderDate": "2015-03-31",
                                    "DaysbetweenOrders": "5"
                                },
                                {
                                    "CustomerID": "HILAA",
                                    "InitalOrderId": "10957",
                                    "InitalOrderDate": "2016-03-18",
                                    "NextOrderId": "10960",
                                    "MextOrderDate": "2016-03-19",
                                    "DaysbetweenOrders": "1"
                                },
                                {
                                    "CustomerID": "ISLAT",
                                    "InitalOrderId": "10315",
                                    "InitalOrderDate": "2014-09-26",
                                    "NextOrderId": "10318",
                                    "MextOrderDate": "2014-10-01",
                                    "DaysbetweenOrders": "5"
                                },
                                {
                                    "CustomerID": "ISLAT",
                                    "InitalOrderId": "10318",
                                    "InitalOrderDate": "2014-10-01",
                                    "NextOrderId": "10321",
                                    "MextOrderDate": "2014-10-03",
                                    "DaysbetweenOrders": "2"
                                },
                                {
                                    "CustomerID": "KOENE",
                                    "InitalOrderId": "10323",
                                    "InitalOrderDate": "2014-10-07",
                                    "NextOrderId": "10325",
                                    "MextOrderDate": "2014-10-09",
                                    "DaysbetweenOrders": "2"
                                },
                                {
                                    "CustomerID": "KOENE",
                                    "InitalOrderId": "10456",
                                    "InitalOrderDate": "2015-02-25",
                                    "NextOrderId": "10457",
                                    "MextOrderDate": "2015-02-25",
                                    "DaysbetweenOrders": "0"
                                },
                                {
                                    "CustomerID": "LACOR",
                                    "InitalOrderId": "10972",
                                    "InitalOrderDate": "2016-03-24",
                                    "NextOrderId": "10973",
                                    "MextOrderDate": "2016-03-24",
                                    "DaysbetweenOrders": "0"
                                },
                                {
                                    "CustomerID": "LEHMS",
                                    "InitalOrderId": "10534",
                                    "InitalOrderDate": "2015-05-12",
                                    "NextOrderId": "10536",
                                    "MextOrderDate": "2015-05-14",
                                    "DaysbetweenOrders": "2"
                                },
                                {
                                    "CustomerID": "LEHMS",
                                    "InitalOrderId": "10592",
                                    "InitalOrderDate": "2015-07-08",
                                    "NextOrderId": "10593",
                                    "MextOrderDate": "2015-07-09",
                                    "DaysbetweenOrders": "1"
                                },
                                {
                                    "CustomerID": "LILAS",
                                    "InitalOrderId": "11065",
                                    "InitalOrderDate": "2016-05-01",
                                    "NextOrderId": "11071",
                                    "MextOrderDate": "2016-05-05",
                                    "DaysbetweenOrders": "4"
                                },
                                {
                                    "CustomerID": "LINOD",
                                    "InitalOrderId": "10838",
                                    "InitalOrderDate": "2016-01-19",
                                    "NextOrderId": "10840",
                                    "MextOrderDate": "2016-01-19",
                                    "DaysbetweenOrders": "0"
                                },
                                {
                                    "CustomerID": "LONEP",
                                    "InitalOrderId": "10662",
                                    "InitalOrderDate": "2015-09-09",
                                    "NextOrderId": "10665",
                                    "MextOrderDate": "2015-09-11",
                                    "DaysbetweenOrders": "2"
                                },
                                {
                                    "CustomerID": "MAISD",
                                    "InitalOrderId": "10892",
                                    "InitalOrderDate": "2016-02-17",
                                    "NextOrderId": "10896",
                                    "MextOrderDate": "2016-02-19",
                                    "DaysbetweenOrders": "2"
                                },
                                {
                                    "CustomerID": "MEREP",
                                    "InitalOrderId": "10618",
                                    "InitalOrderDate": "2015-08-01",
                                    "NextOrderId": "10619",
                                    "MextOrderDate": "2015-08-04",
                                    "DaysbetweenOrders": "3"
                                },
                                {
                                    "CustomerID": "QUEEN",
                                    "InitalOrderId": "10913",
                                    "InitalOrderDate": "2016-02-26",
                                    "NextOrderId": "10914",
                                    "MextOrderDate": "2016-02-27",
                                    "DaysbetweenOrders": "1"
                                },
                                {
                                    "CustomerID": "QUICK",
                                    "InitalOrderId": "10285",
                                    "InitalOrderDate": "2014-08-20",
                                    "NextOrderId": "10286",
                                    "MextOrderDate": "2014-08-21",
                                    "DaysbetweenOrders": "1"
                                },
                                {
                                    "CustomerID": "QUICK",
                                    "InitalOrderId": "10691",
                                    "InitalOrderDate": "2015-10-03",
                                    "NextOrderId": "10694",
                                    "MextOrderDate": "2015-10-06",
                                    "DaysbetweenOrders": "3"
                                },
                                {
                                    "CustomerID": "QUICK",
                                    "InitalOrderId": "10991",
                                    "InitalOrderDate": "2016-04-01",
                                    "NextOrderId": "10996",
                                    "MextOrderDate": "2016-04-02",
                                    "DaysbetweenOrders": "1"
                                },
                                {
                                    "CustomerID": "RATTC",
                                    "InitalOrderId": "10314",
                                    "InitalOrderDate": "2014-09-25",
                                    "NextOrderId": "10316",
                                    "MextOrderDate": "2014-09-27",
                                    "DaysbetweenOrders": "2"
                                },
                                {
                                    "CustomerID": "RICSU",
                                    "InitalOrderId": "10751",
                                    "InitalOrderDate": "2015-11-24",
                                    "NextOrderId": "10758",
                                    "MextOrderDate": "2015-11-28",
                                    "DaysbetweenOrders": "4"
                                },
                                {
                                    "CustomerID": "ROMEY",
                                    "InitalOrderId": "10281",
                                    "InitalOrderDate": "2014-08-14",
                                    "NextOrderId": "10282",
                                    "MextOrderDate": "2014-08-15",
                                    "DaysbetweenOrders": "1"
                                },
                                {
                                    "CustomerID": "SAVEA",
                                    "InitalOrderId": "10393",
                                    "InitalOrderDate": "2014-12-25",
                                    "NextOrderId": "10398",
                                    "MextOrderDate": "2014-12-30",
                                    "DaysbetweenOrders": "5"
                                },
                                {
                                    "CustomerID": "SAVEA",
                                    "InitalOrderId": "10603",
                                    "InitalOrderDate": "2015-07-18",
                                    "NextOrderId": "10607",
                                    "MextOrderDate": "2015-07-22",
                                    "DaysbetweenOrders": "4"
                                },
                                {
                                    "CustomerID": "SAVEA",
                                    "InitalOrderId": "10711",
                                    "InitalOrderDate": "2015-10-21",
                                    "NextOrderId": "10713",
                                    "MextOrderDate": "2015-10-22",
                                    "DaysbetweenOrders": "1"
                                },
                                {
                                    "CustomerID": "SAVEA",
                                    "InitalOrderId": "10711",
                                    "InitalOrderDate": "2015-10-21",
                                    "NextOrderId": "10714",
                                    "MextOrderDate": "2015-10-22",
                                    "DaysbetweenOrders": "1"
                                },
                                {
                                    "CustomerID": "SAVEA",
                                    "InitalOrderId": "10713",
                                    "InitalOrderDate": "2015-10-22",
                                    "NextOrderId": "10714",
                                    "MextOrderDate": "2015-10-22",
                                    "DaysbetweenOrders": "0"
                                },
                                {
                                    "CustomerID": "SAVEA",
                                    "InitalOrderId": "10983",
                                    "InitalOrderDate": "2016-03-27",
                                    "NextOrderId": "10984",
                                    "MextOrderDate": "2016-03-30",
                                    "DaysbetweenOrders": "3"
                                },
                                {
                                    "CustomerID": "SAVEA",
                                    "InitalOrderId": "11030",
                                    "InitalOrderDate": "2016-04-17",
                                    "NextOrderId": "11031",
                                    "MextOrderDate": "2016-04-17",
                                    "DaysbetweenOrders": "0"
                                },
                                {
                                    "CustomerID": "SEVES",
                                    "InitalOrderId": "10800",
                                    "InitalOrderDate": "2015-12-26",
                                    "NextOrderId": "10804",
                                    "MextOrderDate": "2015-12-30",
                                    "DaysbetweenOrders": "4"
                                },
                                {
                                    "CustomerID": "SUPRD",
                                    "InitalOrderId": "10841",
                                    "InitalOrderDate": "2016-01-20",
                                    "NextOrderId": "10846",
                                    "MextOrderDate": "2016-01-22",
                                    "DaysbetweenOrders": "2"
                                },
                                {
                                    "CustomerID": "SUPRD",
                                    "InitalOrderId": "11035",
                                    "InitalOrderDate": "2016-04-20",
                                    "NextOrderId": "11038",
                                    "MextOrderDate": "2016-04-21",
                                    "DaysbetweenOrders": "1"
                                },
                                {
                                    "CustomerID": "TRADH",
                                    "InitalOrderId": "10830",
                                    "InitalOrderDate": "2016-01-13",
                                    "NextOrderId": "10834",
                                    "MextOrderDate": "2016-01-15",
                                    "DaysbetweenOrders": "2"
                                },
                                {
                                    "CustomerID": "TRADH",
                                    "InitalOrderId": "10834",
                                    "InitalOrderDate": "2016-01-15",
                                    "NextOrderId": "10839",
                                    "MextOrderDate": "2016-01-19",
                                    "DaysbetweenOrders": "4"
                                },
                                {
                                    "CustomerID": "TRAIH",
                                    "InitalOrderId": "10574",
                                    "InitalOrderDate": "2015-06-19",
                                    "NextOrderId": "10577",
                                    "MextOrderDate": "2015-06-23",
                                    "DaysbetweenOrders": "4"
                                },
                                {
                                    "CustomerID": "VICTE",
                                    "InitalOrderId": "10806",
                                    "InitalOrderDate": "2015-12-31",
                                    "NextOrderId": "10814",
                                    "MextOrderDate": "2016-01-05",
                                    "DaysbetweenOrders": "5"
                                },
                                {
                                    "CustomerID": "VICTE",
                                    "InitalOrderId": "10843",
                                    "InitalOrderDate": "2016-01-21",
                                    "NextOrderId": "10850",
                                    "MextOrderDate": "2016-01-23",
                                    "DaysbetweenOrders": "2"
                                },
                                {
                                    "CustomerID": "VINET",
                                    "InitalOrderId": "10737",
                                    "InitalOrderDate": "2015-11-11",
                                    "NextOrderId": "10739",
                                    "MextOrderDate": "2015-11-12",
                                    "DaysbetweenOrders": "1"
                                },
                                {
                                    "CustomerID": "WARTH",
                                    "InitalOrderId": "10412",
                                    "InitalOrderDate": "2015-01-13",
                                    "NextOrderId": "10416",
                                    "MextOrderDate": "2015-01-16",
                                    "DaysbetweenOrders": "3"
                                },
                                {
                                    "CustomerID": "WELLI",
                                    "InitalOrderId": "10803",
                                    "InitalOrderDate": "2015-12-30",
                                    "NextOrderId": "10809",
                                    "MextOrderDate": "2016-01-01",
                                    "DaysbetweenOrders": "2"
                                },
                                {
                                    "CustomerID": "WELLI",
                                    "InitalOrderId": "10900",
                                    "InitalOrderDate": "2016-02-20",
                                    "NextOrderId": "10905",
                                    "MextOrderDate": "2016-02-24",
                                    "DaysbetweenOrders": "4"
                                },
                                {
                                    "CustomerID": "WHITC",
                                    "InitalOrderId": "10693",
                                    "InitalOrderDate": "2015-10-06",
                                    "NextOrderId": "10696",
                                    "MextOrderDate": "2015-10-08",
                                    "DaysbetweenOrders": "2"
                                },
                                {
                                    "CustomerID": "WILMK",
                                    "InitalOrderId": "10873",
                                    "InitalOrderDate": "2016-02-06",
                                    "NextOrderId": "10879",
                                    "MextOrderDate": "2016-02-10",
                                    "DaysbetweenOrders": "4"
                                }
                            ]
                        },
                        "text/html": [
                            "<table>",
                            "<tr><th>CustomerID</th><th>InitalOrderId</th><th>InitalOrderDate</th><th>NextOrderId</th><th>MextOrderDate</th><th>DaysbetweenOrders</th></tr>",
                            "<tr><td>ANTON</td><td>10677</td><td>2015-09-22</td><td>10682</td><td>2015-09-25</td><td>3</td></tr>",
                            "<tr><td>AROUT</td><td>10741</td><td>2015-11-14</td><td>10743</td><td>2015-11-17</td><td>3</td></tr>",
                            "<tr><td>BERGS</td><td>10278</td><td>2014-08-12</td><td>10280</td><td>2014-08-14</td><td>2</td></tr>",
                            "<tr><td>BERGS</td><td>10444</td><td>2015-02-12</td><td>10445</td><td>2015-02-13</td><td>1</td></tr>",
                            "<tr><td>BERGS</td><td>10866</td><td>2016-02-03</td><td>10875</td><td>2016-02-06</td><td>3</td></tr>",
                            "<tr><td>BONAP</td><td>10730</td><td>2015-11-05</td><td>10732</td><td>2015-11-06</td><td>1</td></tr>",
                            "<tr><td>BONAP</td><td>10871</td><td>2016-02-05</td><td>10876</td><td>2016-02-09</td><td>4</td></tr>",
                            "<tr><td>BONAP</td><td>10932</td><td>2016-03-06</td><td>10940</td><td>2016-03-11</td><td>5</td></tr>",
                            "<tr><td>BOTTM</td><td>10410</td><td>2015-01-10</td><td>10411</td><td>2015-01-10</td><td>0</td></tr>",
                            "<tr><td>BOTTM</td><td>10944</td><td>2016-03-12</td><td>10949</td><td>2016-03-13</td><td>1</td></tr>",
                            "<tr><td>BOTTM</td><td>10975</td><td>2016-03-25</td><td>10982</td><td>2016-03-27</td><td>2</td></tr>",
                            "<tr><td>BOTTM</td><td>11045</td><td>2016-04-23</td><td>11048</td><td>2016-04-24</td><td>1</td></tr>",
                            "<tr><td>BSBEV</td><td>10538</td><td>2015-05-15</td><td>10539</td><td>2015-05-16</td><td>1</td></tr>",
                            "<tr><td>BSBEV</td><td>10943</td><td>2016-03-11</td><td>10947</td><td>2016-03-13</td><td>2</td></tr>",
                            "<tr><td>EASTC</td><td>11047</td><td>2016-04-24</td><td>11056</td><td>2016-04-28</td><td>4</td></tr>",
                            "<tr><td>ERNSH</td><td>10402</td><td>2015-01-02</td><td>10403</td><td>2015-01-03</td><td>1</td></tr>",
                            "<tr><td>ERNSH</td><td>10771</td><td>2015-12-10</td><td>10773</td><td>2015-12-11</td><td>1</td></tr>",
                            "<tr><td>ERNSH</td><td>10771</td><td>2015-12-10</td><td>10776</td><td>2015-12-15</td><td>5</td></tr>",
                            "<tr><td>ERNSH</td><td>10773</td><td>2015-12-11</td><td>10776</td><td>2015-12-15</td><td>4</td></tr>",
                            "<tr><td>ERNSH</td><td>10968</td><td>2016-03-23</td><td>10979</td><td>2016-03-26</td><td>3</td></tr>",
                            "<tr><td>ERNSH</td><td>11008</td><td>2016-04-08</td><td>11017</td><td>2016-04-13</td><td>5</td></tr>",
                            "<tr><td>FOLKO</td><td>10977</td><td>2016-03-26</td><td>10980</td><td>2016-03-27</td><td>1</td></tr>",
                            "<tr><td>FOLKO</td><td>10980</td><td>2016-03-27</td><td>10993</td><td>2016-04-01</td><td>5</td></tr>",
                            "<tr><td>FOLKO</td><td>10993</td><td>2016-04-01</td><td>11001</td><td>2016-04-06</td><td>5</td></tr>",
                            "<tr><td>FRANK</td><td>10670</td><td>2015-09-16</td><td>10675</td><td>2015-09-19</td><td>3</td></tr>",
                            "<tr><td>GODOS</td><td>10872</td><td>2016-02-05</td><td>10874</td><td>2016-02-06</td><td>1</td></tr>",
                            "<tr><td>GREAL</td><td>10616</td><td>2015-07-31</td><td>10617</td><td>2015-07-31</td><td>0</td></tr>",
                            "<tr><td>HANAR</td><td>10250</td><td>2014-07-08</td><td>10253</td><td>2014-07-10</td><td>2</td></tr>",
                            "<tr><td>HANAR</td><td>10922</td><td>2016-03-03</td><td>10925</td><td>2016-03-04</td><td>1</td></tr>",
                            "<tr><td>HILAA</td><td>10486</td><td>2015-03-26</td><td>10490</td><td>2015-03-31</td><td>5</td></tr>",
                            "<tr><td>HILAA</td><td>10957</td><td>2016-03-18</td><td>10960</td><td>2016-03-19</td><td>1</td></tr>",
                            "<tr><td>ISLAT</td><td>10315</td><td>2014-09-26</td><td>10318</td><td>2014-10-01</td><td>5</td></tr>",
                            "<tr><td>ISLAT</td><td>10318</td><td>2014-10-01</td><td>10321</td><td>2014-10-03</td><td>2</td></tr>",
                            "<tr><td>KOENE</td><td>10323</td><td>2014-10-07</td><td>10325</td><td>2014-10-09</td><td>2</td></tr>",
                            "<tr><td>KOENE</td><td>10456</td><td>2015-02-25</td><td>10457</td><td>2015-02-25</td><td>0</td></tr>",
                            "<tr><td>LACOR</td><td>10972</td><td>2016-03-24</td><td>10973</td><td>2016-03-24</td><td>0</td></tr>",
                            "<tr><td>LEHMS</td><td>10534</td><td>2015-05-12</td><td>10536</td><td>2015-05-14</td><td>2</td></tr>",
                            "<tr><td>LEHMS</td><td>10592</td><td>2015-07-08</td><td>10593</td><td>2015-07-09</td><td>1</td></tr>",
                            "<tr><td>LILAS</td><td>11065</td><td>2016-05-01</td><td>11071</td><td>2016-05-05</td><td>4</td></tr>",
                            "<tr><td>LINOD</td><td>10838</td><td>2016-01-19</td><td>10840</td><td>2016-01-19</td><td>0</td></tr>",
                            "<tr><td>LONEP</td><td>10662</td><td>2015-09-09</td><td>10665</td><td>2015-09-11</td><td>2</td></tr>",
                            "<tr><td>MAISD</td><td>10892</td><td>2016-02-17</td><td>10896</td><td>2016-02-19</td><td>2</td></tr>",
                            "<tr><td>MEREP</td><td>10618</td><td>2015-08-01</td><td>10619</td><td>2015-08-04</td><td>3</td></tr>",
                            "<tr><td>QUEEN</td><td>10913</td><td>2016-02-26</td><td>10914</td><td>2016-02-27</td><td>1</td></tr>",
                            "<tr><td>QUICK</td><td>10285</td><td>2014-08-20</td><td>10286</td><td>2014-08-21</td><td>1</td></tr>",
                            "<tr><td>QUICK</td><td>10691</td><td>2015-10-03</td><td>10694</td><td>2015-10-06</td><td>3</td></tr>",
                            "<tr><td>QUICK</td><td>10991</td><td>2016-04-01</td><td>10996</td><td>2016-04-02</td><td>1</td></tr>",
                            "<tr><td>RATTC</td><td>10314</td><td>2014-09-25</td><td>10316</td><td>2014-09-27</td><td>2</td></tr>",
                            "<tr><td>RICSU</td><td>10751</td><td>2015-11-24</td><td>10758</td><td>2015-11-28</td><td>4</td></tr>",
                            "<tr><td>ROMEY</td><td>10281</td><td>2014-08-14</td><td>10282</td><td>2014-08-15</td><td>1</td></tr>",
                            "<tr><td>SAVEA</td><td>10393</td><td>2014-12-25</td><td>10398</td><td>2014-12-30</td><td>5</td></tr>",
                            "<tr><td>SAVEA</td><td>10603</td><td>2015-07-18</td><td>10607</td><td>2015-07-22</td><td>4</td></tr>",
                            "<tr><td>SAVEA</td><td>10711</td><td>2015-10-21</td><td>10713</td><td>2015-10-22</td><td>1</td></tr>",
                            "<tr><td>SAVEA</td><td>10711</td><td>2015-10-21</td><td>10714</td><td>2015-10-22</td><td>1</td></tr>",
                            "<tr><td>SAVEA</td><td>10713</td><td>2015-10-22</td><td>10714</td><td>2015-10-22</td><td>0</td></tr>",
                            "<tr><td>SAVEA</td><td>10983</td><td>2016-03-27</td><td>10984</td><td>2016-03-30</td><td>3</td></tr>",
                            "<tr><td>SAVEA</td><td>11030</td><td>2016-04-17</td><td>11031</td><td>2016-04-17</td><td>0</td></tr>",
                            "<tr><td>SEVES</td><td>10800</td><td>2015-12-26</td><td>10804</td><td>2015-12-30</td><td>4</td></tr>",
                            "<tr><td>SUPRD</td><td>10841</td><td>2016-01-20</td><td>10846</td><td>2016-01-22</td><td>2</td></tr>",
                            "<tr><td>SUPRD</td><td>11035</td><td>2016-04-20</td><td>11038</td><td>2016-04-21</td><td>1</td></tr>",
                            "<tr><td>TRADH</td><td>10830</td><td>2016-01-13</td><td>10834</td><td>2016-01-15</td><td>2</td></tr>",
                            "<tr><td>TRADH</td><td>10834</td><td>2016-01-15</td><td>10839</td><td>2016-01-19</td><td>4</td></tr>",
                            "<tr><td>TRAIH</td><td>10574</td><td>2015-06-19</td><td>10577</td><td>2015-06-23</td><td>4</td></tr>",
                            "<tr><td>VICTE</td><td>10806</td><td>2015-12-31</td><td>10814</td><td>2016-01-05</td><td>5</td></tr>",
                            "<tr><td>VICTE</td><td>10843</td><td>2016-01-21</td><td>10850</td><td>2016-01-23</td><td>2</td></tr>",
                            "<tr><td>VINET</td><td>10737</td><td>2015-11-11</td><td>10739</td><td>2015-11-12</td><td>1</td></tr>",
                            "<tr><td>WARTH</td><td>10412</td><td>2015-01-13</td><td>10416</td><td>2015-01-16</td><td>3</td></tr>",
                            "<tr><td>WELLI</td><td>10803</td><td>2015-12-30</td><td>10809</td><td>2016-01-01</td><td>2</td></tr>",
                            "<tr><td>WELLI</td><td>10900</td><td>2016-02-20</td><td>10905</td><td>2016-02-24</td><td>4</td></tr>",
                            "<tr><td>WHITC</td><td>10693</td><td>2015-10-06</td><td>10696</td><td>2015-10-08</td><td>2</td></tr>",
                            "<tr><td>WILMK</td><td>10873</td><td>2016-02-06</td><td>10879</td><td>2016-02-10</td><td>4</td></tr>",
                            "</table>"
                        ]
                    }
                }
            ],
            "execution_count": 63
        },
        {
            "cell_type": "markdown",
            "source": [
                "<span style=\"font-size: 16.000000pt; font-family: 'Cambria'\">57. Customers with multiple orders in 5 day period, version 2</span>\n",
                "\n",
                "<span style=\"font-size: 12.000000pt; font-family: 'TimesNewRomanPSMT'\">There’s another way of solving the problem above, using Window functions. </span> <span style=\"font-size: 12.000000pt; font-family: 'TimesNewRomanPSMT'\">We would like to see the following results. USING WINDOW FUNCTION&nbsp;&nbsp;</span>"
            ],
            "metadata": {
                "language": "sql",
                "azdata_cell_guid": "d72afffd-478f-4495-b47c-c71bbaffa32e"
            },
            "attachments": {}
        },
        {
            "cell_type": "code",
            "source": [
                "WITH NextOrders AS (\n",
                "    SELECT \n",
                "    CustomerID,\n",
                "    OrderDate = CONVERT(Date,OrderDate),\n",
                "    NextOrderDate = CONVERT(Date,\n",
                "                    LEAD(OrderDate,1)\n",
                "                    OVER(PARTITION BY CustomerID ORDER BY CustomerID,OrderDate ))\n",
                "                    FROM Orders\n",
                ")\n",
                "\n",
                "SELECT \n",
                "    CustomerID,\n",
                "    OrderDate,\n",
                "    NextOrderDate,\n",
                "    DaysInBetween = DATEDIFF(dd,OrderDate,NextOrderDate)\n",
                "FROM NextOrders\n",
                "WHERE DATEDIFF(dd,OrderDate,NextOrderDate) <=5\n",
                "ORDER BY CustomerID"
            ],
            "metadata": {
                "language": "sql",
                "azdata_cell_guid": "b6d06495-b338-44aa-b9b7-a390ae8bf359",
                "tags": []
            },
            "outputs": [
                {
                    "output_type": "display_data",
                    "data": {
                        "text/html": "(69 rows affected)"
                    },
                    "metadata": {}
                },
                {
                    "output_type": "display_data",
                    "data": {
                        "text/html": "Total execution time: 00:00:00.005"
                    },
                    "metadata": {}
                },
                {
                    "output_type": "execute_result",
                    "metadata": {},
                    "execution_count": 69,
                    "data": {
                        "application/vnd.dataresource+json": {
                            "schema": {
                                "fields": [
                                    {
                                        "name": "CustomerID"
                                    },
                                    {
                                        "name": "OrderDate"
                                    },
                                    {
                                        "name": "NextOrderDate"
                                    },
                                    {
                                        "name": "DaysInBetween"
                                    }
                                ]
                            },
                            "data": [
                                {
                                    "CustomerID": "ANTON",
                                    "OrderDate": "2015-09-22",
                                    "NextOrderDate": "2015-09-25",
                                    "DaysInBetween": "3"
                                },
                                {
                                    "CustomerID": "AROUT",
                                    "OrderDate": "2015-11-14",
                                    "NextOrderDate": "2015-11-17",
                                    "DaysInBetween": "3"
                                },
                                {
                                    "CustomerID": "BERGS",
                                    "OrderDate": "2014-08-12",
                                    "NextOrderDate": "2014-08-14",
                                    "DaysInBetween": "2"
                                },
                                {
                                    "CustomerID": "BERGS",
                                    "OrderDate": "2015-02-12",
                                    "NextOrderDate": "2015-02-13",
                                    "DaysInBetween": "1"
                                },
                                {
                                    "CustomerID": "BERGS",
                                    "OrderDate": "2016-02-03",
                                    "NextOrderDate": "2016-02-06",
                                    "DaysInBetween": "3"
                                },
                                {
                                    "CustomerID": "BONAP",
                                    "OrderDate": "2015-11-05",
                                    "NextOrderDate": "2015-11-06",
                                    "DaysInBetween": "1"
                                },
                                {
                                    "CustomerID": "BONAP",
                                    "OrderDate": "2016-02-05",
                                    "NextOrderDate": "2016-02-09",
                                    "DaysInBetween": "4"
                                },
                                {
                                    "CustomerID": "BONAP",
                                    "OrderDate": "2016-03-06",
                                    "NextOrderDate": "2016-03-11",
                                    "DaysInBetween": "5"
                                },
                                {
                                    "CustomerID": "BOTTM",
                                    "OrderDate": "2015-01-10",
                                    "NextOrderDate": "2015-01-10",
                                    "DaysInBetween": "0"
                                },
                                {
                                    "CustomerID": "BOTTM",
                                    "OrderDate": "2016-03-12",
                                    "NextOrderDate": "2016-03-13",
                                    "DaysInBetween": "1"
                                },
                                {
                                    "CustomerID": "BOTTM",
                                    "OrderDate": "2016-03-25",
                                    "NextOrderDate": "2016-03-27",
                                    "DaysInBetween": "2"
                                },
                                {
                                    "CustomerID": "BOTTM",
                                    "OrderDate": "2016-04-23",
                                    "NextOrderDate": "2016-04-24",
                                    "DaysInBetween": "1"
                                },
                                {
                                    "CustomerID": "BSBEV",
                                    "OrderDate": "2015-05-15",
                                    "NextOrderDate": "2015-05-16",
                                    "DaysInBetween": "1"
                                },
                                {
                                    "CustomerID": "BSBEV",
                                    "OrderDate": "2016-03-11",
                                    "NextOrderDate": "2016-03-13",
                                    "DaysInBetween": "2"
                                },
                                {
                                    "CustomerID": "EASTC",
                                    "OrderDate": "2016-04-24",
                                    "NextOrderDate": "2016-04-28",
                                    "DaysInBetween": "4"
                                },
                                {
                                    "CustomerID": "ERNSH",
                                    "OrderDate": "2015-01-02",
                                    "NextOrderDate": "2015-01-03",
                                    "DaysInBetween": "1"
                                },
                                {
                                    "CustomerID": "ERNSH",
                                    "OrderDate": "2015-12-10",
                                    "NextOrderDate": "2015-12-11",
                                    "DaysInBetween": "1"
                                },
                                {
                                    "CustomerID": "ERNSH",
                                    "OrderDate": "2015-12-11",
                                    "NextOrderDate": "2015-12-15",
                                    "DaysInBetween": "4"
                                },
                                {
                                    "CustomerID": "ERNSH",
                                    "OrderDate": "2016-03-23",
                                    "NextOrderDate": "2016-03-26",
                                    "DaysInBetween": "3"
                                },
                                {
                                    "CustomerID": "ERNSH",
                                    "OrderDate": "2016-04-08",
                                    "NextOrderDate": "2016-04-13",
                                    "DaysInBetween": "5"
                                },
                                {
                                    "CustomerID": "FOLKO",
                                    "OrderDate": "2016-03-26",
                                    "NextOrderDate": "2016-03-27",
                                    "DaysInBetween": "1"
                                },
                                {
                                    "CustomerID": "FOLKO",
                                    "OrderDate": "2016-03-27",
                                    "NextOrderDate": "2016-04-01",
                                    "DaysInBetween": "5"
                                },
                                {
                                    "CustomerID": "FOLKO",
                                    "OrderDate": "2016-04-01",
                                    "NextOrderDate": "2016-04-06",
                                    "DaysInBetween": "5"
                                },
                                {
                                    "CustomerID": "FRANK",
                                    "OrderDate": "2015-09-16",
                                    "NextOrderDate": "2015-09-19",
                                    "DaysInBetween": "3"
                                },
                                {
                                    "CustomerID": "GODOS",
                                    "OrderDate": "2016-02-05",
                                    "NextOrderDate": "2016-02-06",
                                    "DaysInBetween": "1"
                                },
                                {
                                    "CustomerID": "GREAL",
                                    "OrderDate": "2015-07-31",
                                    "NextOrderDate": "2015-07-31",
                                    "DaysInBetween": "0"
                                },
                                {
                                    "CustomerID": "HANAR",
                                    "OrderDate": "2014-07-08",
                                    "NextOrderDate": "2014-07-10",
                                    "DaysInBetween": "2"
                                },
                                {
                                    "CustomerID": "HANAR",
                                    "OrderDate": "2016-03-03",
                                    "NextOrderDate": "2016-03-04",
                                    "DaysInBetween": "1"
                                },
                                {
                                    "CustomerID": "HILAA",
                                    "OrderDate": "2015-03-26",
                                    "NextOrderDate": "2015-03-31",
                                    "DaysInBetween": "5"
                                },
                                {
                                    "CustomerID": "HILAA",
                                    "OrderDate": "2016-03-18",
                                    "NextOrderDate": "2016-03-19",
                                    "DaysInBetween": "1"
                                },
                                {
                                    "CustomerID": "ISLAT",
                                    "OrderDate": "2014-09-26",
                                    "NextOrderDate": "2014-10-01",
                                    "DaysInBetween": "5"
                                },
                                {
                                    "CustomerID": "ISLAT",
                                    "OrderDate": "2014-10-01",
                                    "NextOrderDate": "2014-10-03",
                                    "DaysInBetween": "2"
                                },
                                {
                                    "CustomerID": "KOENE",
                                    "OrderDate": "2014-10-07",
                                    "NextOrderDate": "2014-10-09",
                                    "DaysInBetween": "2"
                                },
                                {
                                    "CustomerID": "KOENE",
                                    "OrderDate": "2015-02-25",
                                    "NextOrderDate": "2015-02-25",
                                    "DaysInBetween": "0"
                                },
                                {
                                    "CustomerID": "LACOR",
                                    "OrderDate": "2016-03-24",
                                    "NextOrderDate": "2016-03-24",
                                    "DaysInBetween": "0"
                                },
                                {
                                    "CustomerID": "LEHMS",
                                    "OrderDate": "2015-05-12",
                                    "NextOrderDate": "2015-05-14",
                                    "DaysInBetween": "2"
                                },
                                {
                                    "CustomerID": "LEHMS",
                                    "OrderDate": "2015-07-08",
                                    "NextOrderDate": "2015-07-09",
                                    "DaysInBetween": "1"
                                },
                                {
                                    "CustomerID": "LILAS",
                                    "OrderDate": "2016-05-01",
                                    "NextOrderDate": "2016-05-05",
                                    "DaysInBetween": "4"
                                },
                                {
                                    "CustomerID": "LINOD",
                                    "OrderDate": "2016-01-19",
                                    "NextOrderDate": "2016-01-19",
                                    "DaysInBetween": "0"
                                },
                                {
                                    "CustomerID": "LONEP",
                                    "OrderDate": "2015-09-09",
                                    "NextOrderDate": "2015-09-11",
                                    "DaysInBetween": "2"
                                },
                                {
                                    "CustomerID": "MAISD",
                                    "OrderDate": "2016-02-17",
                                    "NextOrderDate": "2016-02-19",
                                    "DaysInBetween": "2"
                                },
                                {
                                    "CustomerID": "MEREP",
                                    "OrderDate": "2015-08-01",
                                    "NextOrderDate": "2015-08-04",
                                    "DaysInBetween": "3"
                                },
                                {
                                    "CustomerID": "QUEEN",
                                    "OrderDate": "2016-02-26",
                                    "NextOrderDate": "2016-02-27",
                                    "DaysInBetween": "1"
                                },
                                {
                                    "CustomerID": "QUICK",
                                    "OrderDate": "2014-08-20",
                                    "NextOrderDate": "2014-08-21",
                                    "DaysInBetween": "1"
                                },
                                {
                                    "CustomerID": "QUICK",
                                    "OrderDate": "2015-10-03",
                                    "NextOrderDate": "2015-10-06",
                                    "DaysInBetween": "3"
                                },
                                {
                                    "CustomerID": "QUICK",
                                    "OrderDate": "2016-04-01",
                                    "NextOrderDate": "2016-04-02",
                                    "DaysInBetween": "1"
                                },
                                {
                                    "CustomerID": "RATTC",
                                    "OrderDate": "2014-09-25",
                                    "NextOrderDate": "2014-09-27",
                                    "DaysInBetween": "2"
                                },
                                {
                                    "CustomerID": "RICSU",
                                    "OrderDate": "2015-11-24",
                                    "NextOrderDate": "2015-11-28",
                                    "DaysInBetween": "4"
                                },
                                {
                                    "CustomerID": "ROMEY",
                                    "OrderDate": "2014-08-14",
                                    "NextOrderDate": "2014-08-15",
                                    "DaysInBetween": "1"
                                },
                                {
                                    "CustomerID": "SAVEA",
                                    "OrderDate": "2014-12-25",
                                    "NextOrderDate": "2014-12-30",
                                    "DaysInBetween": "5"
                                },
                                {
                                    "CustomerID": "SAVEA",
                                    "OrderDate": "2015-07-18",
                                    "NextOrderDate": "2015-07-22",
                                    "DaysInBetween": "4"
                                },
                                {
                                    "CustomerID": "SAVEA",
                                    "OrderDate": "2015-10-21",
                                    "NextOrderDate": "2015-10-22",
                                    "DaysInBetween": "1"
                                },
                                {
                                    "CustomerID": "SAVEA",
                                    "OrderDate": "2015-10-22",
                                    "NextOrderDate": "2015-10-22",
                                    "DaysInBetween": "0"
                                },
                                {
                                    "CustomerID": "SAVEA",
                                    "OrderDate": "2016-03-27",
                                    "NextOrderDate": "2016-03-30",
                                    "DaysInBetween": "3"
                                },
                                {
                                    "CustomerID": "SAVEA",
                                    "OrderDate": "2016-04-17",
                                    "NextOrderDate": "2016-04-17",
                                    "DaysInBetween": "0"
                                },
                                {
                                    "CustomerID": "SEVES",
                                    "OrderDate": "2015-12-26",
                                    "NextOrderDate": "2015-12-30",
                                    "DaysInBetween": "4"
                                },
                                {
                                    "CustomerID": "SUPRD",
                                    "OrderDate": "2016-01-20",
                                    "NextOrderDate": "2016-01-22",
                                    "DaysInBetween": "2"
                                },
                                {
                                    "CustomerID": "SUPRD",
                                    "OrderDate": "2016-04-20",
                                    "NextOrderDate": "2016-04-21",
                                    "DaysInBetween": "1"
                                },
                                {
                                    "CustomerID": "TRADH",
                                    "OrderDate": "2016-01-13",
                                    "NextOrderDate": "2016-01-15",
                                    "DaysInBetween": "2"
                                },
                                {
                                    "CustomerID": "TRADH",
                                    "OrderDate": "2016-01-15",
                                    "NextOrderDate": "2016-01-19",
                                    "DaysInBetween": "4"
                                },
                                {
                                    "CustomerID": "TRAIH",
                                    "OrderDate": "2015-06-19",
                                    "NextOrderDate": "2015-06-23",
                                    "DaysInBetween": "4"
                                },
                                {
                                    "CustomerID": "VICTE",
                                    "OrderDate": "2015-12-31",
                                    "NextOrderDate": "2016-01-05",
                                    "DaysInBetween": "5"
                                },
                                {
                                    "CustomerID": "VICTE",
                                    "OrderDate": "2016-01-21",
                                    "NextOrderDate": "2016-01-23",
                                    "DaysInBetween": "2"
                                },
                                {
                                    "CustomerID": "VINET",
                                    "OrderDate": "2015-11-11",
                                    "NextOrderDate": "2015-11-12",
                                    "DaysInBetween": "1"
                                },
                                {
                                    "CustomerID": "WARTH",
                                    "OrderDate": "2015-01-13",
                                    "NextOrderDate": "2015-01-16",
                                    "DaysInBetween": "3"
                                },
                                {
                                    "CustomerID": "WELLI",
                                    "OrderDate": "2015-12-30",
                                    "NextOrderDate": "2016-01-01",
                                    "DaysInBetween": "2"
                                },
                                {
                                    "CustomerID": "WELLI",
                                    "OrderDate": "2016-02-20",
                                    "NextOrderDate": "2016-02-24",
                                    "DaysInBetween": "4"
                                },
                                {
                                    "CustomerID": "WHITC",
                                    "OrderDate": "2015-10-06",
                                    "NextOrderDate": "2015-10-08",
                                    "DaysInBetween": "2"
                                },
                                {
                                    "CustomerID": "WILMK",
                                    "OrderDate": "2016-02-06",
                                    "NextOrderDate": "2016-02-10",
                                    "DaysInBetween": "4"
                                }
                            ]
                        },
                        "text/html": [
                            "<table>",
                            "<tr><th>CustomerID</th><th>OrderDate</th><th>NextOrderDate</th><th>DaysInBetween</th></tr>",
                            "<tr><td>ANTON</td><td>2015-09-22</td><td>2015-09-25</td><td>3</td></tr>",
                            "<tr><td>AROUT</td><td>2015-11-14</td><td>2015-11-17</td><td>3</td></tr>",
                            "<tr><td>BERGS</td><td>2014-08-12</td><td>2014-08-14</td><td>2</td></tr>",
                            "<tr><td>BERGS</td><td>2015-02-12</td><td>2015-02-13</td><td>1</td></tr>",
                            "<tr><td>BERGS</td><td>2016-02-03</td><td>2016-02-06</td><td>3</td></tr>",
                            "<tr><td>BONAP</td><td>2015-11-05</td><td>2015-11-06</td><td>1</td></tr>",
                            "<tr><td>BONAP</td><td>2016-02-05</td><td>2016-02-09</td><td>4</td></tr>",
                            "<tr><td>BONAP</td><td>2016-03-06</td><td>2016-03-11</td><td>5</td></tr>",
                            "<tr><td>BOTTM</td><td>2015-01-10</td><td>2015-01-10</td><td>0</td></tr>",
                            "<tr><td>BOTTM</td><td>2016-03-12</td><td>2016-03-13</td><td>1</td></tr>",
                            "<tr><td>BOTTM</td><td>2016-03-25</td><td>2016-03-27</td><td>2</td></tr>",
                            "<tr><td>BOTTM</td><td>2016-04-23</td><td>2016-04-24</td><td>1</td></tr>",
                            "<tr><td>BSBEV</td><td>2015-05-15</td><td>2015-05-16</td><td>1</td></tr>",
                            "<tr><td>BSBEV</td><td>2016-03-11</td><td>2016-03-13</td><td>2</td></tr>",
                            "<tr><td>EASTC</td><td>2016-04-24</td><td>2016-04-28</td><td>4</td></tr>",
                            "<tr><td>ERNSH</td><td>2015-01-02</td><td>2015-01-03</td><td>1</td></tr>",
                            "<tr><td>ERNSH</td><td>2015-12-10</td><td>2015-12-11</td><td>1</td></tr>",
                            "<tr><td>ERNSH</td><td>2015-12-11</td><td>2015-12-15</td><td>4</td></tr>",
                            "<tr><td>ERNSH</td><td>2016-03-23</td><td>2016-03-26</td><td>3</td></tr>",
                            "<tr><td>ERNSH</td><td>2016-04-08</td><td>2016-04-13</td><td>5</td></tr>",
                            "<tr><td>FOLKO</td><td>2016-03-26</td><td>2016-03-27</td><td>1</td></tr>",
                            "<tr><td>FOLKO</td><td>2016-03-27</td><td>2016-04-01</td><td>5</td></tr>",
                            "<tr><td>FOLKO</td><td>2016-04-01</td><td>2016-04-06</td><td>5</td></tr>",
                            "<tr><td>FRANK</td><td>2015-09-16</td><td>2015-09-19</td><td>3</td></tr>",
                            "<tr><td>GODOS</td><td>2016-02-05</td><td>2016-02-06</td><td>1</td></tr>",
                            "<tr><td>GREAL</td><td>2015-07-31</td><td>2015-07-31</td><td>0</td></tr>",
                            "<tr><td>HANAR</td><td>2014-07-08</td><td>2014-07-10</td><td>2</td></tr>",
                            "<tr><td>HANAR</td><td>2016-03-03</td><td>2016-03-04</td><td>1</td></tr>",
                            "<tr><td>HILAA</td><td>2015-03-26</td><td>2015-03-31</td><td>5</td></tr>",
                            "<tr><td>HILAA</td><td>2016-03-18</td><td>2016-03-19</td><td>1</td></tr>",
                            "<tr><td>ISLAT</td><td>2014-09-26</td><td>2014-10-01</td><td>5</td></tr>",
                            "<tr><td>ISLAT</td><td>2014-10-01</td><td>2014-10-03</td><td>2</td></tr>",
                            "<tr><td>KOENE</td><td>2014-10-07</td><td>2014-10-09</td><td>2</td></tr>",
                            "<tr><td>KOENE</td><td>2015-02-25</td><td>2015-02-25</td><td>0</td></tr>",
                            "<tr><td>LACOR</td><td>2016-03-24</td><td>2016-03-24</td><td>0</td></tr>",
                            "<tr><td>LEHMS</td><td>2015-05-12</td><td>2015-05-14</td><td>2</td></tr>",
                            "<tr><td>LEHMS</td><td>2015-07-08</td><td>2015-07-09</td><td>1</td></tr>",
                            "<tr><td>LILAS</td><td>2016-05-01</td><td>2016-05-05</td><td>4</td></tr>",
                            "<tr><td>LINOD</td><td>2016-01-19</td><td>2016-01-19</td><td>0</td></tr>",
                            "<tr><td>LONEP</td><td>2015-09-09</td><td>2015-09-11</td><td>2</td></tr>",
                            "<tr><td>MAISD</td><td>2016-02-17</td><td>2016-02-19</td><td>2</td></tr>",
                            "<tr><td>MEREP</td><td>2015-08-01</td><td>2015-08-04</td><td>3</td></tr>",
                            "<tr><td>QUEEN</td><td>2016-02-26</td><td>2016-02-27</td><td>1</td></tr>",
                            "<tr><td>QUICK</td><td>2014-08-20</td><td>2014-08-21</td><td>1</td></tr>",
                            "<tr><td>QUICK</td><td>2015-10-03</td><td>2015-10-06</td><td>3</td></tr>",
                            "<tr><td>QUICK</td><td>2016-04-01</td><td>2016-04-02</td><td>1</td></tr>",
                            "<tr><td>RATTC</td><td>2014-09-25</td><td>2014-09-27</td><td>2</td></tr>",
                            "<tr><td>RICSU</td><td>2015-11-24</td><td>2015-11-28</td><td>4</td></tr>",
                            "<tr><td>ROMEY</td><td>2014-08-14</td><td>2014-08-15</td><td>1</td></tr>",
                            "<tr><td>SAVEA</td><td>2014-12-25</td><td>2014-12-30</td><td>5</td></tr>",
                            "<tr><td>SAVEA</td><td>2015-07-18</td><td>2015-07-22</td><td>4</td></tr>",
                            "<tr><td>SAVEA</td><td>2015-10-21</td><td>2015-10-22</td><td>1</td></tr>",
                            "<tr><td>SAVEA</td><td>2015-10-22</td><td>2015-10-22</td><td>0</td></tr>",
                            "<tr><td>SAVEA</td><td>2016-03-27</td><td>2016-03-30</td><td>3</td></tr>",
                            "<tr><td>SAVEA</td><td>2016-04-17</td><td>2016-04-17</td><td>0</td></tr>",
                            "<tr><td>SEVES</td><td>2015-12-26</td><td>2015-12-30</td><td>4</td></tr>",
                            "<tr><td>SUPRD</td><td>2016-01-20</td><td>2016-01-22</td><td>2</td></tr>",
                            "<tr><td>SUPRD</td><td>2016-04-20</td><td>2016-04-21</td><td>1</td></tr>",
                            "<tr><td>TRADH</td><td>2016-01-13</td><td>2016-01-15</td><td>2</td></tr>",
                            "<tr><td>TRADH</td><td>2016-01-15</td><td>2016-01-19</td><td>4</td></tr>",
                            "<tr><td>TRAIH</td><td>2015-06-19</td><td>2015-06-23</td><td>4</td></tr>",
                            "<tr><td>VICTE</td><td>2015-12-31</td><td>2016-01-05</td><td>5</td></tr>",
                            "<tr><td>VICTE</td><td>2016-01-21</td><td>2016-01-23</td><td>2</td></tr>",
                            "<tr><td>VINET</td><td>2015-11-11</td><td>2015-11-12</td><td>1</td></tr>",
                            "<tr><td>WARTH</td><td>2015-01-13</td><td>2015-01-16</td><td>3</td></tr>",
                            "<tr><td>WELLI</td><td>2015-12-30</td><td>2016-01-01</td><td>2</td></tr>",
                            "<tr><td>WELLI</td><td>2016-02-20</td><td>2016-02-24</td><td>4</td></tr>",
                            "<tr><td>WHITC</td><td>2015-10-06</td><td>2015-10-08</td><td>2</td></tr>",
                            "<tr><td>WILMK</td><td>2016-02-06</td><td>2016-02-10</td><td>4</td></tr>",
                            "</table>"
                        ]
                    }
                }
            ],
            "execution_count": 69
        }
    ]
}
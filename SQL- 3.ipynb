{
    "metadata": {
        "kernelspec": {
            "name": "SQL",
            "display_name": "SQL",
            "language": "sql"
        },
        "language_info": {
            "name": "sql",
            "version": ""
        }
    },
    "nbformat_minor": 2,
    "nbformat": 4,
    "cells": [
        {
            "cell_type": "markdown",
            "source": [
                "**1. Cost changes for each product**\n",
                "\n",
                "**There's a table called ProductCostHistory which contains the history of the cost of the product.**\n",
                "\n",
                "**Using that table, get the total number of times the product cost has changed.**\n",
                "\n",
                "**Sort the results by ProductID**"
            ],
            "metadata": {
                "azdata_cell_guid": "c911c402-47a9-4bd4-a719-ef59a6dcc696"
            },
            "attachments": {}
        },
        {
            "cell_type": "code",
            "source": [
                "SELECT \n",
                "    ProductID,\n",
                "    TotalPriceChanges = COUNT(ModifiedDate)\n",
                "FROM ProductCostHistory\n",
                "GROUP BY ProductID\n"
            ],
            "metadata": {
                "azdata_cell_guid": "6d679195-459c-4e54-bce7-0ce4408d005f",
                "language": "sql"
            },
            "outputs": [],
            "execution_count": null
        },
        {
            "cell_type": "markdown",
            "source": [
                "2. Customers with total orders placed\n",
                "\n",
                "We want to see a list of all the customers that have made orders, and the total number of orders\n",
                "\n",
                "the customer has made.\n",
                "\n",
                "Sort by the total number of orders, in descending order"
            ],
            "metadata": {
                "azdata_cell_guid": "e4dd53e2-fa64-4b96-b73a-489c2de6d921",
                "language": "sql"
            },
            "attachments": {}
        },
        {
            "cell_type": "code",
            "source": [
                "SELECT \n",
                "    SO.CustomerID, \n",
                "    TotalOrders = COUNT(SalesOrderID)\n",
                "FROM SalesOrderHeader SO\n",
                "JOIN Customer C ON C.CustomerID = SO.CustomerID\n",
                "GROUP BY SO.CustomerID\n",
                "ORDER BY TotalOrders DESC "
            ],
            "metadata": {
                "azdata_cell_guid": "6f835ae0-a17e-4874-b1b0-a9c8efe7965a",
                "language": "sql",
                "tags": [
                    "hide_input"
                ]
            },
            "outputs": [],
            "execution_count": null
        },
        {
            "cell_type": "markdown",
            "source": [
                "3. Products with first and last order date\n",
                "\n",
                "For each product that was ordered, show the first and last date that it was ordered.\n",
                "\n",
                "In the previous problem I gave you the table name to use. For this problem, look at the list of\n",
                "\n",
                "tables, and figure out which ones you need to use.\n",
                "\n",
                "Sort the results by ProductID."
            ],
            "metadata": {
                "azdata_cell_guid": "28536077-dea6-4085-b6d0-86f87e55911d",
                "language": "sql"
            },
            "attachments": {}
        },
        {
            "cell_type": "code",
            "source": [
                "SELECT \n",
                "    SD.ProductID,\n",
                "    FirstOrder = MIN(CONVERT(date, OrderDate)),\n",
                "    LastOrder = MAX(CONVERT(date,OrderDate))\n",
                "FROM SalesOrderDetail SD \n",
                "JOIN SalesOrderHeader SH ON SD.SalesOrderID = SH.SalesOrderID\n",
                "GROUP BY SD.ProductID\n",
                "ORDER BY SD.ProductID"
            ],
            "metadata": {
                "azdata_cell_guid": "379b6f9d-e521-4cfd-99c9-35d73ec2a78f",
                "language": "sql",
                "tags": []
            },
            "outputs": [],
            "execution_count": null
        },
        {
            "cell_type": "markdown",
            "source": [
                "4. Products with first and last order date, including name\n",
                "\n",
                "For each product that was ordered, show the first and last date that it was ordered. This time,\n",
                "\n",
                "include the name of the product in the output, to make it easier to understand.\n",
                "\n",
                "Sort the results by ProductID."
            ],
            "metadata": {
                "azdata_cell_guid": "fbd9319b-265b-49fa-9498-d798fd320e2d",
                "language": "sql"
            },
            "attachments": {}
        },
        {
            "cell_type": "code",
            "source": [
                "SELECT \n",
                "    SD.ProductID,\n",
                "    P.ProductName,\n",
                "    FirstOrder = MIN(CONVERT(date, OrderDate)),\n",
                "    LastOrder = MAX(CONVERT(date,OrderDate))\n",
                "FROM SalesOrderDetail SD \n",
                "JOIN SalesOrderHeader SH ON SD.SalesOrderID = SH.SalesOrderID\n",
                "JOIN Product P ON P.ProductID = SD.ProductID\n",
                "GROUP BY SD.ProductID,P.ProductName\n",
                "ORDER BY SD.ProductID"
            ],
            "metadata": {
                "azdata_cell_guid": "f626551b-a021-434b-93b9-ca4fa2841a15",
                "language": "sql"
            },
            "outputs": [],
            "execution_count": null
        },
        {
            "cell_type": "markdown",
            "source": [
                "5. Product cost on a specific date\n",
                "\n",
                "We'd like to get a list of the cost of products, as of a certain date, 2012-04-15. Use the\n",
                "\n",
                "ProductCostHistory to get the results.\n",
                "\n",
                "Sort the output by ProductID."
            ],
            "metadata": {
                "azdata_cell_guid": "452f45fe-c019-49e5-b6f1-0a160a08c98c",
                "language": "sql"
            },
            "attachments": {}
        },
        {
            "cell_type": "code",
            "source": [
                "SELECT \n",
                "    ProductID,\n",
                "    StandardCost\n",
                "FROM ProductCostHistory\n",
                "WHERE '2012-04-15' BETWEEN StartDate AND EndDate\n",
                "ORDER BY ProductID"
            ],
            "metadata": {
                "azdata_cell_guid": "b2486f95-bbbe-40a4-865a-20fb1c956b0a",
                "language": "sql",
                "tags": []
            },
            "outputs": [],
            "execution_count": null
        },
        {
            "cell_type": "markdown",
            "source": [
                "6. Product cost on a specific date, part 2\n",
                "\n",
                "It turns out that the answer to the above problem has a problem. Change the date to 2014-04-15.\n",
                "\n",
                "What are your results?\n",
                "\n",
                "If you use the SQL from the answer above, and just change the date, you won't get the results\n",
                "\n",
                "you want.\n",
                "\n",
                "Fix the SQL so it gives the correct results with the new date. Note that when the EndDate is null,\n",
                "\n",
                "that means that price is applicable into the future."
            ],
            "metadata": {
                "azdata_cell_guid": "20e81777-27fc-4be2-a36a-ddb90d04e453",
                "language": "sql"
            },
            "attachments": {}
        },
        {
            "cell_type": "code",
            "source": [
                "SELECT \n",
                "    ProductID,\n",
                "    StandardCost\n",
                "FROM ProductCostHistory\n",
                "WHERE '2012-04-15' BETWEEN StartDate AND ISNULL(EndDate,getdate())\n",
                "ORDER BY ProductID"
            ],
            "metadata": {
                "azdata_cell_guid": "d16882b7-5008-4303-b6d3-f1eff5656b63",
                "language": "sql"
            },
            "outputs": [],
            "execution_count": null
        },
        {
            "cell_type": "markdown",
            "source": [
                "7. Product List Price: how many price changes?\n",
                "\n",
                "Show the months from the ProductListPriceHistory table, and the total number of changes made\n",
                "\n",
                "in that month."
            ],
            "metadata": {
                "azdata_cell_guid": "ae8eda5a-6ae2-4b0f-893e-e93b22a4346d",
                "language": "sql"
            },
            "attachments": {}
        },
        {
            "cell_type": "code",
            "source": [
                "SELECT \n",
                "    ProductListPriceMonth = FORMAT(StartDate, 'yyyy/MM'),\n",
                "    TotolRows = COUNT(*)\n",
                "FROM ProductListPriceHistory\n",
                "GROUP BY FORMAT(StartDate, 'yyyy/MM')"
            ],
            "metadata": {
                "azdata_cell_guid": "3bb8606f-1d45-44b9-baee-2691796bff46",
                "language": "sql"
            },
            "outputs": [],
            "execution_count": null
        },
        {
            "cell_type": "code",
            "source": [
                "SELECT \n",
                "    ProductListPriceMonth = CONCAT(YEAR(StartDate), '/','0',MONTH(StartDate)),\n",
                "    TotalRows = COUNT(*)\n",
                "FROM ProductListPriceHistory\n",
                "GROUP BY CONCAT(YEAR(StartDate), '/','0',MONTH(StartDate))"
            ],
            "metadata": {
                "azdata_cell_guid": "2d46be34-01a6-4139-9769-578a659e9656",
                "language": "sql"
            },
            "outputs": [],
            "execution_count": null
        },
        {
            "cell_type": "markdown",
            "source": [
                "8. Product List Price: months with no price changes?\n",
                "\n",
                "After reviewing the results of the previous query, it looks like price changes are made only in\n",
                "\n",
                "one month of the year.\n",
                "\n",
                "We want a query that makes this pattern very clear. Show all months (within the range of\n",
                "\n",
                "StartDate values in ProductListPriceHistory). This includes the months during which no prices\n",
                "\n",
                "were changed."
            ],
            "metadata": {
                "azdata_cell_guid": "9e2e0561-96f4-4d1d-9703-d416bc0451a1",
                "language": "sql"
            },
            "attachments": {}
        },
        {
            "cell_type": "code",
            "source": [
                "SELECT\n",
                "    CalendarMonth,\n",
                "    TotalRows = COUNT(PH.StartDate)\n",
                "FROM Calendar C\n",
                "LEFT JOIN ProductListPriceHistory PH \n",
                "ON C.CalendarDate = PH.StartDate\n",
                "WHERE \n",
                "    C.CalendarDate >=(SELECT MIN(StartDate)FROM ProductListPriceHistory)\n",
                "AND \n",
                "    C.CalendarDate <=(SELECT MAX(StartDate)FROM ProductCostHistory)\n",
                "GROUP BY CalendarMonth\n",
                "ORDER BY CalendarMonth"
            ],
            "metadata": {
                "azdata_cell_guid": "843172c4-d958-4220-b7f0-373a2fb6cab1",
                "language": "sql"
            },
            "outputs": [],
            "execution_count": null
        },
        {
            "cell_type": "markdown",
            "source": [
                "9. Current list price of every product\n",
                "\n",
                "What is the current list price of every product, using the ProductListPrice history?\n",
                "\n",
                "Order by ProductID"
            ],
            "metadata": {
                "azdata_cell_guid": "32628f11-18f7-465e-9a14-7b79c3762a12",
                "language": "sql"
            },
            "attachments": {}
        },
        {
            "cell_type": "code",
            "source": [
                "SELECT \n",
                "     ProductID,\n",
                "     ListPrice\n",
                "FROM ProductListPriceHistory\n",
                "WHERE EndDate IS NULL \n",
                "ORDER BY ProductID"
            ],
            "metadata": {
                "azdata_cell_guid": "1fee0b08-6020-41d5-a4f1-af110c102650",
                "language": "sql"
            },
            "outputs": [],
            "execution_count": null
        },
        {
            "cell_type": "markdown",
            "source": [
                "10. Products without a list price history\n",
                "\n",
                "Show a list of all products that do not have any entries in the list price history table.\n",
                "\n",
                "Sort the results by ProductID"
            ],
            "metadata": {
                "azdata_cell_guid": "91340085-3ca7-493a-8cad-89bf88863ec3",
                "language": "sql"
            },
            "attachments": {}
        },
        {
            "cell_type": "code",
            "source": [
                "SELECT \n",
                "    p.ProductID,\n",
                "    P.ProductName \n",
                "FROM ProductListPriceHistory PH\n",
                "FULL JOIN Product P ON P.ProductID = PH.ProductID\n",
                "WHERE PH.ListPrice IS NULL \n",
                "ORDER BY P.ProductID"
            ],
            "metadata": {
                "azdata_cell_guid": "c89ca081-19fd-4f0f-b118-6916e8737fa5",
                "language": "sql"
            },
            "outputs": [],
            "execution_count": null
        },
        {
            "cell_type": "code",
            "source": [
                "SELECT \n",
                "    ProductID,\n",
                "    ProductName \n",
                "FROM Product\n",
                "WHERE ProductID NOT IN (SELECT ProductID FROM ProductListPriceHistory)\n",
                "ORDER BY ProductID\n"
            ],
            "metadata": {
                "azdata_cell_guid": "eede9393-7451-4cdf-9dde-31902ef6bdc3",
                "language": "sql"
            },
            "outputs": [],
            "execution_count": null
        },
        {
            "cell_type": "markdown",
            "source": [
                "11. Product cost on a specific date, part 3\n",
                "\n",
                "In the earlier problem “Product cost on a specific date, part 2”, this answer was given:\n",
                "\n",
                "Select\n",
                "\n",
                "ProductID\n",
                "\n",
                ",StandardCost\n",
                "\n",
                "From ProductCostHistory\n",
                "\n",
                "Where\n",
                "\n",
                "'2014-04-15' Between StartDate and IsNull(EndDate, getdate())\n",
                "\n",
                "Order By ProductID\n",
                "\n",
                "However, there are many ProductIDs that exist in the ProductCostHistory table that don’t show\n",
                "\n",
                "up in this list."
            ],
            "metadata": {
                "azdata_cell_guid": "6400f5eb-e728-479d-8651-e72905e4a2fe",
                "language": "sql"
            },
            "attachments": {}
        },
        {
            "cell_type": "code",
            "source": [
                "SELECT DISTINCT\n",
                "    ProductID   \n",
                "FROM ProductCostHistory\n",
                "WHERE ProductID NOT IN (\n",
                "SELECT \n",
                "    ProductID\n",
                "FROM ProductCostHistory\n",
                "WHERE '2014-04-15' BETWEEN StartDate AND ISNULL(EndDate, getdate())\n",
                ")\n",
                "ORDER BY ProductID"
            ],
            "metadata": {
                "azdata_cell_guid": "58609f07-566d-4c70-866a-a1b7b5a4ed1d",
                "language": "sql",
                "tags": []
            },
            "outputs": [],
            "execution_count": null
        },
        {
            "cell_type": "code",
            "source": [
                "SELECT \n",
                "    ProductID \n",
                "FROM ProductCostHistory\n",
                "EXCEPT\n",
                "SELECT \n",
                "    ProductID\n",
                "FROM ProductCostHistory\n",
                "WHERE '2014-04-15' BETWEEN StartDate AND ISNULL(EndDate, getdate())\n",
                "ORDER BY ProductID"
            ],
            "metadata": {
                "azdata_cell_guid": "a5186496-8abc-407e-a15d-31c728c40526",
                "language": "sql"
            },
            "outputs": [],
            "execution_count": null
        },
        {
            "cell_type": "markdown",
            "source": [
                "12. Products with multiple current list price records\n",
                "\n",
                "There should only be one current price for each product in the ProductListPriceHistory table, but\n",
                "\n",
                "unfortunately some products have multiple current records.\n",
                "\n",
                "Find all these, and sort by ProductID"
            ],
            "metadata": {
                "azdata_cell_guid": "9cf615f6-56e7-4cb2-ba84-309e2aca2ad3",
                "language": "sql"
            },
            "attachments": {}
        },
        {
            "cell_type": "code",
            "source": [
                "WITH TotalCountofCurrentPrice AS (SELECT \n",
                "     ProductID,\n",
                "     TotalCount = COUNT(ListPrice)\n",
                "FROM ProductListPriceHistory\n",
                "WHERE EndDate IS NULL\n",
                "GROUP BY ProductID) \n",
                "\n",
                "SELECT \n",
                "    ProductID\n",
                "FROM TotalCountofCurrentPrice TP \n",
                "WHERE TotalCount > 1\n",
                "ORDER BY ProductID"
            ],
            "metadata": {
                "azdata_cell_guid": "318b86e0-89c3-49f3-99e0-6e8e684648c5",
                "language": "sql"
            },
            "outputs": [],
            "execution_count": null
        },
        {
            "cell_type": "code",
            "source": [
                "SELECT \n",
                "    ProductID\n",
                "FROM ProductListPriceHistory\n",
                "WHERE EndDate IS NULL \n",
                "GROUP BY ProductID\n",
                "HAVING COUNT(*) > 1\n"
            ],
            "metadata": {
                "azdata_cell_guid": "0a4562cb-92fa-423d-9b47-a0f0164a7590",
                "language": "sql"
            },
            "outputs": [],
            "execution_count": null
        },
        {
            "cell_type": "markdown",
            "source": [
                "13. Products with their first and last order date, including name\n",
                "\n",
                "and subcategory\n",
                "\n",
                "In the problem “Products with their first and last order date, including name\", we looked only at\n",
                "\n",
                "product that have been ordered.\n",
                "\n",
                "It turns out that there are many products that have never been ordered.\n",
                "\n",
                "This time, show all the products, and the first and last order date. Include the product\n",
                "\n",
                "subcategory as well.\n",
                "\n",
                "Sort by the ProductName field."
            ],
            "metadata": {
                "azdata_cell_guid": "d0955d54-5d2f-41d7-90b8-4363df9f8bf3",
                "language": "sql"
            },
            "attachments": {}
        },
        {
            "cell_type": "code",
            "source": [
                "SELECT \n",
                "     P.ProductID,\n",
                "     P.ProductName,\n",
                "     PS.ProductSubCategoryName,\n",
                "     FirstOrder = CONVERT(date,MIN(OrderDate)),\n",
                "     LastOrder = CONVERT(date,MAX(OrderDate))\n",
                "FROM Product P \n",
                "FULL JOIN ProductSubcategory PS ON P.ProductSubcategoryID = PS.ProductSubcategoryID\n",
                "FULL JOIN SalesOrderDetail SD ON P.ProductID = SD.ProductID\n",
                "FULL JOIN SalesOrderHeader SH ON SD.SalesOrderID = SH.SalesOrderID\n",
                "GROUP BY P.ProductID,P.ProductName,PS.ProductSubCategoryName\n",
                "ORDER BY P.ProductName"
            ],
            "metadata": {
                "azdata_cell_guid": "041a9da8-0d9a-439c-a8a8-5e8804b11ba6",
                "language": "sql"
            },
            "outputs": [],
            "execution_count": null
        },
        {
            "cell_type": "markdown",
            "source": [
                "14. Products with list price discrepancies\n",
                "\n",
                "It's astonishing how much work with SQL and data is in finding and resolving discrepancies in\n",
                "\n",
                "data. Some of the salespeople have told us that the current price in the price list history doesn't\n",
                "\n",
                "seem to match the actual list price in the Product table.\n",
                "\n",
                "Find all these discrepancies. Sort the results by ProductID."
            ],
            "metadata": {
                "azdata_cell_guid": "35d31177-3a0b-415b-a039-d32f60fc04ac",
                "language": "sql"
            },
            "attachments": {}
        },
        {
            "cell_type": "code",
            "source": [
                "WITH LatestPrice AS (\n",
                "    SELECT \n",
                "    ProductID,\n",
                "    ListPrice\n",
                "    FROM ProductListPriceHistory\n",
                "    WHERE EndDate IS NULL \n",
                ")\n",
                "\n",
                "\n",
                "SELECT \n",
                "    P.ProductID,\n",
                "    P.ProductName,\n",
                "    Prod_ListPrice = P.ListPrice,\n",
                "    PriceHist_LastestList = LP.ListPrice,\n",
                "    Diff = (P.ListPrice - LP.ListPrice)\n",
                "FROM Product P \n",
                "JOIN LatestPrice LP ON P.ProductID = LP.ProductID\n",
                "WHERE P.ListPrice != LP.ListPrice\n",
                "ORDER BY ProductID"
            ],
            "metadata": {
                "azdata_cell_guid": "eb17d5df-2cdf-4ea4-a5cb-435af21858b4",
                "language": "sql",
                "tags": []
            },
            "outputs": [],
            "execution_count": null
        },
        {
            "cell_type": "code",
            "source": [
                "SELECT \n",
                "    P.ProductID,\n",
                "    P.ProductName,\n",
                "    Prod_listPrice = P.ListPrice,\n",
                "    ProdHis_lastestPrice = PH.ListPrice\n",
                "FROM Product P \n",
                "JOIN ProductListPriceHistory PH ON P.ProductID = PH.ProductID\n",
                "WHERE P.ListPrice !=PH.ListPrice\n",
                "AND PH.EndDate IS NULL \n",
                "ORDER BY P.ProductID"
            ],
            "metadata": {
                "azdata_cell_guid": "f25c0d4d-0b05-45c2-b14e-61a8fa7d6520",
                "language": "sql"
            },
            "outputs": [],
            "execution_count": null
        },
        {
            "cell_type": "markdown",
            "source": [
                "15. Orders for products that were unavailable\n",
                "\n",
                "It looks like some products were sold before or after they were supposed to be sold, based on the\n",
                "\n",
                "SellStartDate and SellEndDate in the Product table. Show a list of these orders, with details.\n",
                "\n",
                "Sort the results by ProductID, then OrderDate."
            ],
            "metadata": {
                "azdata_cell_guid": "7e43aeaa-1245-46c5-b086-a92a58394bbc",
                "language": "sql"
            },
            "attachments": {}
        },
        {
            "cell_type": "code",
            "source": [
                "SELECT \n",
                "    P.ProductID,\n",
                "    OrderDate = CONVERT(date,SH.OrderDate),\n",
                "    P.ProductName,\n",
                "    Qty = SD.OrderQty,\n",
                "    SellStartDate = CONVERT(date,P.SellStartDate),\n",
                "    SellEndDate = CONVERT(date,P.SellEndDate)\n",
                "FROM Product P\n",
                "JOIN SalesOrderDetail SD ON P.ProductID = SD.ProductID\n",
                "JOIN SalesOrderHeader SH ON SD.SalesOrderID = SH.SalesOrderID\n",
                "WHERE SH.OrderDate > P.SellEndDate OR SH.OrderDate < P.SellStartDate\n",
                "AND P.SellEndDate IS NOT NULL \n",
                "ORDER BY ProductID\n",
                "\n"
            ],
            "metadata": {
                "azdata_cell_guid": "1983862c-335a-4742-a69d-1f851faeb506",
                "language": "sql",
                "tags": []
            },
            "outputs": [],
            "execution_count": null
        },
        {
            "cell_type": "code",
            "source": [
                "SELECT \n",
                "    P.ProductID,\n",
                "    OrderDate = CONVERT(date,SH.OrderDate),\n",
                "    P.ProductName,\n",
                "    Qty = SD.OrderQty,\n",
                "    SellStartDate = CONVERT(date,P.SellStartDate),\n",
                "    SellEndDate = CONVERT(date,P.SellEndDate)\n",
                "FROM Product P\n",
                "JOIN SalesOrderDetail SD ON P.ProductID = SD.ProductID\n",
                "JOIN SalesOrderHeader SH ON SD.SalesOrderID = SH.SalesOrderID\n",
                "WHERE SH.OrderDate NOT BETWEEN P.SellStartDate AND ISNULL(P.SellEndDate,OrderDate)\n",
                "ORDER BY ProductID,OrderDate\n",
                "\n"
            ],
            "metadata": {
                "azdata_cell_guid": "4625f684-bc9a-4a47-b0af-6a53d421deed",
                "language": "sql",
                "tags": []
            },
            "outputs": [],
            "execution_count": null
        },
        {
            "cell_type": "markdown",
            "source": [
                "16. Orders for products that were unavailable: details\n",
                "\n",
                "We'd like to get more details on when products that were supposed to be unavailable were\n",
                "\n",
                "ordered.\n",
                "\n",
                "Create a new column that shows whether the product was ordered before the sell start date, or\n",
                "\n",
                "after the sell end date.\n",
                "\n",
                "Sort the results by ProductID and OrderDate."
            ],
            "metadata": {
                "azdata_cell_guid": "8886e2c5-5fe7-4b0e-8c85-dc273bb5203f",
                "language": "sql"
            },
            "attachments": {}
        },
        {
            "cell_type": "code",
            "source": [
                "SELECT \n",
                "    P.ProductID,\n",
                "    OrderDate = CONVERT(date,SH.OrderDate),\n",
                "    Qty = SD.OrderQty,\n",
                "    SellStartDate = CONVERT(date,P.SellStartDate),\n",
                "    SellEndDate = CONVERT(date,P.SellEndDate),\n",
                "    ProblemTypes = CASE \n",
                "                   WHEN OrderDate > SellEndDate THEN 'Sold after end date'\n",
                "                   WHEN OrderDate < SellStartDate THEN 'Sold before start date'\n",
                "                END \n",
                "FROM Product P\n",
                "JOIN SalesOrderDetail SD ON P.ProductID = SD.ProductID\n",
                "JOIN SalesOrderHeader SH ON SD.SalesOrderID = SH.SalesOrderID\n",
                "WHERE SH.OrderDate NOT BETWEEN P.SellStartDate AND ISNULL(P.SellEndDate,OrderDate)\n",
                "ORDER BY ProductID,OrderDate"
            ],
            "metadata": {
                "azdata_cell_guid": "069cca47-9965-4221-acd0-2c5c62333f35",
                "language": "sql"
            },
            "outputs": [],
            "execution_count": null
        },
        {
            "cell_type": "markdown",
            "source": [
                "17. OrderDate with time component\n",
                "\n",
                "How many OrderDate values in SalesOrderHeader have a time component to them?\n",
                "\n",
                "Show the results as below."
            ],
            "metadata": {
                "azdata_cell_guid": "86c3b968-7ad7-4199-b831-b2344476a795",
                "language": "sql"
            },
            "attachments": {}
        },
        {
            "cell_type": "code",
            "source": [
                "WITH TotalOrderWithTime AS (SELECT \n",
                "    TotalOrderWithTime = COUNT(*)\n",
                "FROM SalesOrderHeader\n",
                "WHERE OrderDate != CONVERT(date,OrderDate)) \n",
                "\n",
                "SELECT \n",
                "    TotalOrderWithTime = (SELECT * FROM TotalOrderWithTime),\n",
                "    TotalOrders = COUNT(*),\n",
                "    PercentOrdersWithTimes = (SELECT * FROM TotalOrderWithTime) * 1.00/ COUNT(*) \n",
                " FROM SalesOrderHeader\n",
                "\n",
                "\n"
            ],
            "metadata": {
                "azdata_cell_guid": "6a77d7ae-7401-4450-954c-fd0dc6209cd6",
                "language": "sql",
                "tags": []
            },
            "outputs": [],
            "execution_count": null
        },
        {
            "cell_type": "markdown",
            "source": [
                "18. Fix this SQL! Number 1\n",
                "\n",
                "We want to show details about certain products (name, subcategory, first order date, last order\n",
                "\n",
                "date), similar to what we did in a previous query.\n",
                "\n",
                "This time, we only want to show the data for products that have Silver in the color field. You\n",
                "\n",
                "know, by looking at the Product table directly, that there are many products that have that color.\n",
                "\n",
                "A colleague sent you this query,"
            ],
            "metadata": {
                "azdata_cell_guid": "e8012521-6941-4dd3-b2e3-44f3ee8dc777",
                "language": "sql"
            },
            "attachments": {}
        },
        {
            "cell_type": "code",
            "source": [
                "Select\n",
                "Product.ProductID\n",
                ",ProductName\n",
                ",ProductSubCategoryName\n",
                ",FirstOrder = Convert(date, Min(OrderDate))\n",
                ",LastOrder = Convert(date, Max(OrderDate))\n",
                ",Product.Color\n",
                "From Product\n",
                "Left Join SalesOrderDetail Detail \n",
                "on Product.ProductID = Detail.ProductID AND Product.Color = 'Silver'\n",
                "Left Join SalesOrderHeader Header\n",
                "on Header.SalesOrderID = Detail .SalesOrderID\n",
                "Left Join ProductSubCategory\n",
                "on ProductSubCategory .ProductSubCategoryID = Product.ProductSubCategoryID\n",
                "Group by \n",
                "Product.ProductID\n",
                ",ProductName\n",
                ",ProductSubCategoryName\n",
                ",Product.Color\n",
                "Order by LastOrder desc"
            ],
            "metadata": {
                "azdata_cell_guid": "11e3d80c-db61-48d3-996b-5845bca8b26f",
                "language": "sql"
            },
            "outputs": [],
            "execution_count": null
        },
        {
            "cell_type": "markdown",
            "source": [
                "19. Raw margin quartile for products\n",
                "\n",
                "The product manager would like to show information for all products about the raw margin –\n",
                "\n",
                "that is, the price minus the cost. Create a query that will show this information, as well as the raw\n",
                "\n",
                "margin quartile.\n",
                "\n",
                "For this problem, the quartile should be 1 if the raw margin of the product is in the top 25%, 2 if\n",
                "\n",
                "the product is in the second 25%, etc.\n",
                "\n",
                "Sort the rows by the product name."
            ],
            "metadata": {
                "azdata_cell_guid": "4c4e79ec-719f-4d39-b448-b54ec79eae06",
                "language": "sql"
            },
            "attachments": {}
        },
        {
            "cell_type": "code",
            "source": [
                "SELECT \n",
                "    ProductId, \n",
                "    ProductName,\n",
                "    StandardCost,\n",
                "    ListPrice,\n",
                "    RawMargin = ListPrice - StandardCost,\n",
                "    Quartile = NTILE(4)\n",
                "               OVER(ORDER BY (ListPrice - StandardCost) DESC)\n",
                "FROM Product\n",
                "WHERE StandardCost !=0\n",
                "AND ListPrice !=0\n",
                "ORDER BY ProductName"
            ],
            "metadata": {
                "azdata_cell_guid": "f2f227b8-42d7-445b-bd1d-3def46832e43",
                "language": "sql",
                "tags": []
            },
            "outputs": [],
            "execution_count": null
        },
        {
            "cell_type": "markdown",
            "source": [
                "20. Customers with purchases from multiple sales people\n",
                "\n",
                "Show all the customers that have made purchases from multiple sales people.\n",
                "\n",
                "Sort the results by the customer name (first name plus last name)."
            ],
            "metadata": {
                "azdata_cell_guid": "31cf33be-8cfb-4497-b53d-f6f47ea396d6",
                "language": "sql"
            },
            "attachments": {}
        },
        {
            "cell_type": "code",
            "source": [
                "SELECT\n",
                "    SH.CustomerID, \n",
                "    CustomerName = CONCAT(FirstName,' ', LastName),\n",
                "    TotalDifferentSalesPeople = COUNT(DISTINCT SH.SalesPersonEmployeeID)\n",
                "FROM Customer C \n",
                "JOIN SalesOrderHeader SH ON C.CustomerID = SH.CustomerID\n",
                "GROUP BY SH.CustomerID,CONCAT(FirstName,' ', LastName)\n",
                "HAVING COUNT (DISTINCT SH.SalesPersonEmployeeID) > 1\n",
                "ORDER BY CustomerName "
            ],
            "metadata": {
                "azdata_cell_guid": "421c18f3-0e34-41e5-a80b-b0b0d2670744",
                "language": "sql"
            },
            "outputs": [],
            "execution_count": null
        },
        {
            "cell_type": "markdown",
            "source": [
                "21. Fix this SQL! Number 2\n",
                "\n",
                "A colleague has sent you the following SQL, which causes an error"
            ],
            "metadata": {
                "azdata_cell_guid": "ee88f08e-4a85-4026-9ea0-2cefcc1adff1",
                "language": "sql"
            },
            "attachments": {}
        },
        {
            "cell_type": "code",
            "source": [
                "Select top 100\n",
                "Customer.CustomerID\n",
                ",CustomerName = FirstName + ' ' + LastName\n",
                ",OrderDate\n",
                ",SalesOrderHeader.SalesOrderID\n",
                ",SalesOrderDetail.ProductID\n",
                ",Product.ProductName\n",
                ",LineTotal\n",
                "From SalesOrderHeader\n",
                "Join SalesOrderDetail\n",
                "on SalesOrderHeader .SalesOrderID = SalesOrderDetail .SalesOrderID\n",
                "Join Product\n",
                "on Product.ProductID = SalesOrderDetail.ProductID\n",
                "Join Customer\n",
                "on Customer.CustomerID = SalesOrderHeader.CustomerID\n",
                "Order by\n",
                "CustomerID\n",
                ",OrderDate"
            ],
            "metadata": {
                "azdata_cell_guid": "8035127b-45e8-439c-ade2-b293dbd88555",
                "language": "sql"
            },
            "outputs": [],
            "execution_count": null
        },
        {
            "cell_type": "code",
            "source": [
                "SELECT \n",
                "    ProductName\n",
                "FROM Product\n",
                "GROUP BY ProductName\n",
                "HAVING COUNT(*) > 1"
            ],
            "metadata": {
                "azdata_cell_guid": "eb7f3756-423a-46e4-b7d2-fb0258ed66ff",
                "language": "sql"
            },
            "outputs": [],
            "execution_count": null
        },
        {
            "cell_type": "markdown",
            "source": [
                "23. Duplicate product: details\n",
                "\n",
                "We'd like to get some details on the duplicate product issue. For each product that has duplicates,\n",
                "\n",
                "show the product name and the specific ProductID that we believe to be the duplicate (the one\n",
                "\n",
                "that's not the first ProductID for the product name)."
            ],
            "metadata": {
                "azdata_cell_guid": "34b40a8d-7879-4a88-a66f-ed0909a56fe1",
                "language": "sql"
            },
            "attachments": {}
        },
        {
            "cell_type": "code",
            "source": [
                "WITH DuplicatedRecordName AS (\n",
                "    SELECT \n",
                "    ProductName\n",
                "FROM Product\n",
                "GROUP BY ProductName\n",
                "HAVING COUNT(*) > 1\n",
                ")\n",
                "\n",
                "SELECT TOP 2\n",
                "    PotentiaDuplicatedId = ProductID,\n",
                "    DN.ProductName \n",
                "FROM Product P \n",
                "JOIN DuplicatedRecordName DN ON P.ProductName = DN.ProductName\n",
                "ORDER BY PotentiaDuplicatedId DESC"
            ],
            "metadata": {
                "azdata_cell_guid": "72c52985-ce05-473d-ad90-2ca64fa34bfd",
                "language": "sql",
                "tags": []
            },
            "outputs": [],
            "execution_count": null
        },
        {
            "cell_type": "code",
            "source": [
                "WITH Rowvalue AS (\n",
                "    SELECT\n",
                "        ProductId, \n",
                "        ProductName, \n",
                "        RowNumber= ROW_NUMBER()OVER(PARTITION BY ProductName ORDER BY ProductID)\n",
                "    FROM Product) \n",
                "\n",
                "SELECT \n",
                "    PotentialDuplicateProductID = ProductId,\n",
                "    ProductName\n",
                "FROM Rowvalue\n",
                "WHERE RowNumber != 1 "
            ],
            "metadata": {
                "azdata_cell_guid": "07a823b4-5ef7-4fc5-871c-cda627bb7b64",
                "language": "sql",
                "tags": []
            },
            "outputs": [],
            "execution_count": null
        },
        {
            "cell_type": "markdown",
            "source": [
                "24. How many cost changes do products generally have?\n",
                "\n",
                "We've worked on many problems based on the ProductCostHistory table. We know that the cost\n",
                "\n",
                "for some products has changed more than for other products. Write a query that shows how\n",
                "\n",
                "many cost changes that products have, in general.\n",
                "\n",
                "For this query, you can ignore the fact that in ProductCostHistory, sometimes there's an\n",
                "\n",
                "additional record for a product where the cost didn't actually change."
            ],
            "metadata": {
                "language": "sql",
                "azdata_cell_guid": "82fd6a9e-a279-48aa-8e86-7424e1ae8172"
            },
            "attachments": {}
        },
        {
            "cell_type": "code",
            "source": [
                "WITH Pricechanges AS (SELECT \n",
                "    ProductID,\n",
                "    TotalPriceChanges = COUNT(ModifiedDate)\n",
                "FROM ProductCostHistory\n",
                "GROUP BY ProductID) \n",
                "\n",
                "SELECT \n",
                "    TotalPriceChanges,\n",
                "    TotalProducts = COUNT(ProductID)\n",
                "FROM Pricechanges\n",
                "GROUP BY TotalPriceChanges"
            ],
            "metadata": {
                "language": "sql",
                "azdata_cell_guid": "82e7d50a-d63a-48d0-a96d-96fc2e363d60",
                "tags": []
            },
            "outputs": [],
            "execution_count": null
        },
        {
            "cell_type": "markdown",
            "source": [
                "25. Size and base ProductNumber for products\n",
                "\n",
                "The ProductNumber field in the Product table comes from the vendor of the product. The size is\n",
                "\n",
                "sometimes a part of this field.\n",
                "\n",
                "We need to get the base ProductNumber (without the size), and then the size separately. Some\n",
                "\n",
                "products do not have a size. For those products, the base ProductNumber will be the same as the\n",
                "\n",
                "ProductNumber, and the size field will be null.\n",
                "\n",
                "Limit the results to those ProductIDs that are greater than 533. Sort by ProductID."
            ],
            "metadata": {
                "language": "sql",
                "azdata_cell_guid": "5af83ac6-2595-4a11-a4e1-7e1b95ccb5a6"
            },
            "attachments": {}
        },
        {
            "cell_type": "code",
            "source": [
                "SELECT \n",
                "    ProductId, \n",
                "    ProductNumber,\n",
                "    HyphoenLocation = CHARINDEX('-',ProductNumber), \n",
                "    BaseProductNumber = CASE   \n",
                "                            WHEN CHARINDEX ('-',ProductNumber) = 0 THEN ProductNumber\n",
                "                            ELSE SUBSTRING(ProductNumber, 1, CHARINDEX('-',ProductNumber)-1)\n",
                "                        END,\n",
                "    Size = CASE \n",
                "                WHEN CHARINDEX('-', ProductNumber) = 0 THEN NULL \n",
                "                ELSE SUBSTRING(ProductNumber, CharIndex('-',ProductNumber)+1, 2)\n",
                "                END   \n",
                "FROM Product P \n",
                "WHERE ProductID > 533\n",
                "ORDER BY ProductID"
            ],
            "metadata": {
                "language": "sql",
                "azdata_cell_guid": "37019599-5cf5-441e-9111-8fb1391fa495"
            },
            "outputs": [],
            "execution_count": null
        },
        {
            "cell_type": "code",
            "source": [
                ";With Main AS( \n",
                "    SELECT \n",
                "        ProductID,\n",
                "        ProductName, \n",
                "        ProductNumber,\n",
                "        HypenLocation = CHARINDEX('-', ProductNumber)\n",
                "    FROM Product\n",
                "    WHERE ProductID > 533\n",
                ")\n",
                "\n",
                "SELECT * , \n",
                "    BaseProductNumber = \n",
                "        CASE \n",
                "           WHEN HypenLocation = 0 THEN ProductNumber\n",
                "           ELSE SUBSTRING(ProductNumber,1, HypenLocation -1)\n",
                "           END,\n",
                "    Size =  CASE\n",
                "            WHEN HypenLocation = 0 THEN NULL \n",
                "            ELSE SUBSTRING(ProductNumber, HypenLocation+1, 2)\n",
                "            END\n",
                "FROM Main"
            ],
            "metadata": {
                "language": "sql",
                "azdata_cell_guid": "e5b0cd12-2659-48e7-9cc4-ff7de3e9ed45"
            },
            "outputs": [],
            "execution_count": null
        },
        {
            "cell_type": "markdown",
            "source": [
                "26. Number of sizes for each base product number\n",
                "\n",
                "Now we'd like to get all the base ProductNumbers, and the number of sizes that they have.<span style=\"color: rgb(0, 0, 0); font-family: &quot;Times New Roman&quot;; font-size: 12px;\">Use the output of the previous problem to get the results. However, do not use the filter from the</span>\n",
                "\n",
                "previous problem (ProductIDs that are greater than 533). Instead of that filter, select only those\n",
                "\n",
                "products that are clothing (ProductCategory = 3).\n",
                "\n",
                "Order by the base ProductNumber."
            ],
            "metadata": {
                "language": "sql",
                "azdata_cell_guid": "8c36dcf4-c8d3-4325-b3de-9077038ea1e8"
            },
            "attachments": {}
        },
        {
            "cell_type": "code",
            "source": [
                ";With Main AS( \n",
                "     SELECT \n",
                "        ProductID,\n",
                "        ProductName, \n",
                "        ProductNumber,\n",
                "        HypenLocation = CHARINDEX('-', ProductNumber)\n",
                "    FROM Product P \n",
                "    WHERE ProductSubcategoryId IN \n",
                "    (SELECT ProductSubcategoryID FROM ProductSubcategory \n",
                "    WHERE ProductCategoryID = 3)\n",
                "),\n",
                "Sizes AS(SELECT * , \n",
                "    BaseProductNumber = \n",
                "        CASE \n",
                "           WHEN HypenLocation = 0 THEN ProductNumber\n",
                "           ELSE SUBSTRING(ProductNumber,1, HypenLocation -1)\n",
                "           END,\n",
                "    Size =  CASE\n",
                "            WHEN HypenLocation = 0 THEN NULL \n",
                "            ELSE SUBSTRING(ProductNumber, HypenLocation+1, 2)\n",
                "            END\n",
                "FROM Main) \n",
                "\n",
                "SELECT \n",
                "    BaseProductNumber, \n",
                "    TotalSize = COUNT(*)\n",
                "FROM Sizes\n",
                "GROUP BY BaseProductNumber\n",
                ""
            ],
            "metadata": {
                "language": "sql",
                "azdata_cell_guid": "cf2cb2b2-6151-4812-b5a0-a2356aba50c0"
            },
            "outputs": [],
            "execution_count": null
        },
        {
            "cell_type": "code",
            "source": [
                ";With Main AS( \n",
                "     SELECT \n",
                "        ProductID,\n",
                "        ProductName, \n",
                "        ProductNumber,\n",
                "        HypenLocation = CHARINDEX('-', ProductNumber)\n",
                "    FROM Product P \n",
                "    JOIN ProductSubcategory PS ON P.ProductSubcategoryID = PS.ProductSubcategoryID\n",
                "    WHERE ProductCategoryID = 3\n",
                "),\n",
                "Sizes AS(SELECT * , \n",
                "    BaseProductNumber = \n",
                "        CASE \n",
                "           WHEN HypenLocation = 0 THEN ProductNumber\n",
                "           ELSE SUBSTRING(ProductNumber,1, HypenLocation -1)\n",
                "           END,\n",
                "    Size =  CASE\n",
                "            WHEN HypenLocation = 0 THEN NULL \n",
                "            ELSE SUBSTRING(ProductNumber, HypenLocation+1, 2)\n",
                "            END\n",
                "FROM Main) \n",
                "\n",
                "SELECT \n",
                "    BaseProductNumber, \n",
                "    TotalSize = COUNT(*)\n",
                "FROM Sizes\n",
                "GROUP BY BaseProductNumber"
            ],
            "metadata": {
                "language": "sql",
                "azdata_cell_guid": "c2ba83d3-358a-4928-989e-c8687039f955",
                "tags": []
            },
            "outputs": [],
            "execution_count": null
        },
        {
            "cell_type": "markdown",
            "source": [
                "27. How many cost changes has each product really had?\n",
                "\n",
                "A sharp-eyed analyst has pointed out that the total number of product cost changes (from the\n",
                "\n",
                "problem “Cost changes for each product” is not right. Why? Because sometimes, even when\n",
                "\n",
                "there's a new record in the ProductCostHistory table, the cost is not actually different from the\n",
                "\n",
                "previous record!\n",
                "\n",
                "This eventually will require a fix to the database, to make sure that we do not allow a record like\n",
                "\n",
                "this to be entered. This could be done as a table constraint, or a change to the code used to insert\n",
                "\n",
                "the row.\n",
                "\n",
                "However, for now, let's just get an accurate count of cost changes per product, where the cost has\n",
                "\n",
                "actually changed. Also include the initial row for a product, even if there's only 1 record.\n",
                "\n",
                "Sort the output by ProductID."
            ],
            "metadata": {
                "language": "sql",
                "azdata_cell_guid": "fc8be28d-ba67-4f0c-9ab3-34650dcd3668"
            },
            "attachments": {}
        },
        {
            "cell_type": "code",
            "source": [
                "WITH Main AS(\n",
                "    SELECT \n",
                "        ProductID,\n",
                "        StandardCost,\n",
                "        PreviousStandCost = LAG(StandardCost,1)\n",
                "                            OVER(PARTITION BY ProductID ORDER BY StartDate)\n",
                "    FROM ProductCostHistory)\n",
                "\n",
                "SELECT \n",
                "    P.ProductID, \n",
                "    P.ProductName, \n",
                "    TotalCostChanges = COUNT(*)\n",
                "FROM Main M \n",
                "JOIN Product P ON M.ProductID = P.ProductID\n",
                "WHERE M.PreviousStandCost != M.StandardCost\n",
                "OR M.PreviousStandCost IS NULL \n",
                "GROUP BY P.ProductID, P.ProductName\n",
                "ORDER BY P.ProductID"
            ],
            "metadata": {
                "language": "sql",
                "azdata_cell_guid": "1164ee30-dc8b-4dd5-a18f-ccd4b4669e6c",
                "tags": []
            },
            "outputs": [],
            "execution_count": null
        },
        {
            "cell_type": "markdown",
            "source": [
                "28. Which products had the largest increase in cost?"
            ],
            "metadata": {
                "language": "sql",
                "azdata_cell_guid": "9dc48e7b-1bfd-40ec-9803-c56826c034ba"
            },
            "attachments": {}
        },
        {
            "cell_type": "code",
            "source": [
                "WITH Main AS (\n",
                "       SELECT \n",
                "        ProductID,\n",
                "        StandardCost,\n",
                "        PreviousStandardCost = LAG(StandardCost,1)\n",
                "                               OVER(PARTITION BY ProductID ORDER BY StartDate)\n",
                "    FROM ProductCostHistory\n",
                "\n",
                "),\n",
                "Cte AS (\n",
                "    SELECT \n",
                "        ProductID,\n",
                "        CostChangeDate = MAX(StartDate)\n",
                "    FROM ProductCostHistory\n",
                "    GROUP BY ProductID\n",
                "\n",
                ")\n",
                "\n",
                "SELECT \n",
                "    M.ProductID,\n",
                "    C.CostChangeDate,\n",
                "    M.StandardCost,\n",
                "    M.PreviousStandardCost,\n",
                "    PriceDifference = M.PreviousStandardCost - M.StandardCost\n",
                "FROM Main M \n",
                "JOIN Cte C ON M.ProductID = C.ProductID\n",
                "WHERE M.PreviousStandardCost - M.StandardCost IS NOT NULL \n",
                "ORDER BY PriceDifference DESC \n",
                ""
            ],
            "metadata": {
                "language": "sql",
                "azdata_cell_guid": "1878e855-3da7-41c1-88e6-b7b6b1eb4f2e",
                "tags": []
            },
            "outputs": [],
            "execution_count": null
        },
        {
            "cell_type": "code",
            "source": [
                "WITH Main AS (\n",
                "       SELECT \n",
                "        ProductID,\n",
                "        StartDate, \n",
                "        StandardCost,\n",
                "        PreviousStandardCost = LAG(StandardCost,1)\n",
                "                               OVER(PARTITION BY ProductID ORDER BY StartDate)\n",
                "    FROM ProductCostHistory) \n",
                "\n",
                "SELECT \n",
                "    ProductID,\n",
                "    CostChangeDate = StartDate,\n",
                "    StandardCost,\n",
                "    PreviousStandardCost,\n",
                "    PriceDifference = PreviousStandardCost -StandardCost\n",
                "FROM Main \n",
                "WHERE PreviousStandardCost -StandardCost IS NOT NULL \n",
                "ORDER BY PriceDifference DESC\n",
                ""
            ],
            "metadata": {
                "language": "sql",
                "azdata_cell_guid": "88840717-9d97-45f0-b59e-082b51124800"
            },
            "outputs": [],
            "execution_count": null
        },
        {
            "cell_type": "markdown",
            "source": [
                "29. Fix this SQL! Number 3"
            ],
            "metadata": {
                "language": "sql",
                "azdata_cell_guid": "42293ae1-2ade-4beb-8d60-864b06113ddb"
            },
            "attachments": {}
        },
        {
            "cell_type": "code",
            "source": [
                ";with FraudSuspects as (\n",
                "Select \n",
                "    *\n",
                "From Customer\n",
                "Where\n",
                "CustomerID in (\n",
                "29401\n",
                ",11194\n",
                ",16490\n",
                ",22698\n",
                ",26583\n",
                ",12166\n",
                ",16036\n",
                ",25110\n",
                ",18172\n",
                ",11997\n",
                ",26731\n",
                ")\n",
                "),\n",
                "SampleCustomers AS (Select top 100 *\n",
                "From Customer\n",
                "Where\n",
                "CustomerID not in (SELECT CustomerID FROM FraudSuspects)\n",
                "ORDER BY NewID()) \n",
                "\n",
                "SELECT * FROM FraudSuspects\n",
                "UNION ALL \n",
                "SELECT * FROM SampleCustomers"
            ],
            "metadata": {
                "language": "sql",
                "azdata_cell_guid": "372d32f3-91e9-4c95-84cb-e43ee1d7d738"
            },
            "outputs": [],
            "execution_count": null
        },
        {
            "cell_type": "markdown",
            "source": [
                "30. History table with start/end date overlap"
            ],
            "metadata": {
                "language": "sql",
                "azdata_cell_guid": "44747b55-3468-4dc7-90a2-10e61db10785"
            },
            "attachments": {}
        },
        {
            "cell_type": "code",
            "source": [
                "SELECT \n",
                "    C.CalendarDate,\n",
                "    P.ProductID, \n",
                "    TotalTow = COUNT(*)\n",
                "FROM Calendar C \n",
                "JOIN ProductListPriceHistory P\n",
                "ON P.StartDate <= C.CalendarDate\n",
                "AND P.EndDate >= CalendarDate\n",
                "GROUP BY C.CalendarDate,P.ProductID\n",
                "HAVING COUNT(*) > 1"
            ],
            "metadata": {
                "language": "sql",
                "azdata_cell_guid": "bf951a74-a7c5-4e12-bb98-e09889fd8f83",
                "tags": []
            },
            "outputs": [],
            "execution_count": null
        },
        {
            "cell_type": "code",
            "source": [
                "SELECT \n",
                "    C.CalendarDate,\n",
                "    P.ProductID, \n",
                "    TotalTow = COUNT(*)\n",
                "FROM Calendar C \n",
                "JOIN ProductListPriceHistory P\n",
                "ON P.StartDate <= C.CalendarDate\n",
                "AND ISNULL(P.EndDate, '2013-05-29') >= CalendarDate\n",
                "GROUP BY C.CalendarDate,P.ProductID\n",
                "HAVING COUNT(*) > 1\n",
                "ORDER BY ProductID, C.CalendarDate"
            ],
            "metadata": {
                "language": "sql",
                "azdata_cell_guid": "8bd061ba-3890-4ee5-b97b-31a6dd3a545a"
            },
            "outputs": [],
            "execution_count": null
        },
        {
            "cell_type": "markdown",
            "source": [
                "32. Running total of orders in last year\n",
                "\n",
                "For the company dashboard we'd like to calculate the total number of orders, by month, as well\n",
                "\n",
                "as the running total of orders.\n",
                "\n",
                "Limit the rows to the last year of orders. Sort by calendar month."
            ],
            "metadata": {
                "language": "sql",
                "azdata_cell_guid": "1c15945e-7f9b-471d-8cb4-be34bd3ab1cf"
            },
            "attachments": {}
        },
        {
            "cell_type": "code",
            "source": [
                "WITH FIlterORders AS(SELECT \n",
                "    CalendarMonth,\n",
                "    TotalOrders = COUNT(SalesOrderID)\n",
                "FROM Calendar C \n",
                "JOIN SalesOrderHeader S ON C.CalendarDate = CONVERT(date,S.OrderDate)\n",
                "WHERE OrderDate >= DATEADD(YEAR,-1,(SELECT CONVERT(date,MAX(OrderDate))FROM SalesOrderHeader))\n",
                "GROUP BY CalendarMonth) \n",
                "\n",
                "SELECT \n",
                "    CalendarMonth,\n",
                "    TotalOrders,\n",
                "    RunningTotal = SUM(TotalOrders) OVER(Order By CalendarMonth)\n",
                "FROM FIlterORders\n",
                "ORDER BY CalendarMonth\n",
                " "
            ],
            "metadata": {
                "language": "sql",
                "azdata_cell_guid": "7eb3e767-53fc-4626-aab5-bfe6d731fa1b"
            },
            "outputs": [],
            "execution_count": null
        },
        {
            "cell_type": "markdown",
            "source": [
                "33. Total late orders by territory\n",
                "\n",
                "Show the number of total orders, and the number of orders that are late.\n",
                "\n",
                "For this problem, an order is late when the DueDate is before the ShipDate.\n",
                "\n",
                "Group and sort the rows by Territory."
            ],
            "metadata": {
                "language": "sql",
                "azdata_cell_guid": "353b234f-57ac-4387-b6c2-a4feb54274f5"
            },
            "attachments": {}
        },
        {
            "cell_type": "code",
            "source": [
                "WITH TotalOrders AS (SELECT \n",
                "    ST.TerritoryID,\n",
                "    TerritoryName,\n",
                "    CountryCode,\n",
                "    TotalOrders = COUNT(*)\n",
                "FROM SalesOrderHeader SO\n",
                "JOIN SalesTerritory ST ON SO.TerritoryID = ST.TerritoryID\n",
                "GROUP BY ST.TerritoryID, TerritoryName, CountryCode\n",
                ") ,\n",
                "Lateorders AS (SELECT \n",
                "    TerritoryID, \n",
                "    Totallateroders = COUNT(*)\n",
                "FROM SalesOrderHeader \n",
                "WHERE DueDate <= ShipDate\n",
                "GROUP BY TerritoryID\n",
                ")\n",
                "\n",
                "SELECT \n",
                "    T.TerritoryID,\n",
                "    T.TerritoryName,\n",
                "    T.CountryCode,\n",
                "    T.TotalOrders,\n",
                "    L.Totallateroders\n",
                "FROM TotalOrders T\n",
                "JOIN Lateorders L ON T.TerritoryID = L.TerritoryID\n",
                "ORDER BY TerritoryID\n",
                ""
            ],
            "metadata": {
                "language": "sql",
                "azdata_cell_guid": "cd237ca9-a277-4187-831f-fcb07e268608",
                "tags": []
            },
            "outputs": [],
            "execution_count": null
        },
        {
            "cell_type": "code",
            "source": [
                "WITH Main AS ( \n",
                "    SELECT \n",
                "        SalesOrderID,\n",
                "        TerritoryID,\n",
                "        DueDate,\n",
                "        ShipDate,\n",
                "        OrderArrivedLate= \n",
                "            CASE \n",
                "                WHEN DueDate < ShipDate THEN 1\n",
                "                ELSE 0\n",
                "            END \n",
                "    FROM SalesOrderHeader\n",
                ")\n",
                "\n",
                "SELECT \n",
                "    ST.TerritoryID,\n",
                "    ST.TerritoryName,\n",
                "    ST.CountryCode,\n",
                "    TotalOrders = Count(M.TerritoryID),--- Sum up all the individual records \n",
                "    TotalLateOrders = ISNULL(SUM(OrderArrivedLate),0)--- Where SUM OrderArrivedLate \n",
                "FROM SalesTerritory ST \n",
                "    LEFT JOIN Main M on ST.TerritoryID = M.TerritoryID\n",
                "GROUP BY \n",
                "    ST.TerritoryID,\n",
                "    ST.TerritoryName,\n",
                "    CountryCode"
            ],
            "metadata": {
                "language": "sql",
                "azdata_cell_guid": "20d7f9a8-5a8a-444f-ac17-928abe7fe054"
            },
            "outputs": [],
            "execution_count": null
        }
    ]
}